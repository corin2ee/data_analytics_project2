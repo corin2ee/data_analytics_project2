{
  "nbformat": 4,
  "nbformat_minor": 0,
  "metadata": {
    "colab": {
      "name": "pr2-d3(bike sharing).ipynb",
      "provenance": [],
      "collapsed_sections": []
    },
    "kernelspec": {
      "name": "python3",
      "display_name": "Python 3"
    },
    "language_info": {
      "name": "python"
    }
  },
  "cells": [
    {
      "cell_type": "markdown",
      "metadata": {
        "id": "Lwh9BnpLTIAl"
      },
      "source": [
        "#데이터 : \n",
        "-공유자전거 수요 예측 (bike sharing demand) </br>\n",
        "#데이터 선정 이유 : \n",
        "-소비자의 수요에 맞춰 자원을 효과적으로 활용할 수 있다 . </br>\n",
        "-공유자전거가 증가하는 트렌드에 맞춰 대비할 수 있다."
      ]
    },
    {
      "cell_type": "code",
      "metadata": {
        "colab": {
          "base_uri": "https://localhost:8080/",
          "height": 240
        },
        "id": "go-CpDjz_dr9",
        "outputId": "49ad83e1-9d9b-47c1-9e5c-a3893cae746f"
      },
      "source": [
        "import pandas as pd\n",
        "import numpy as np\n",
        "from google.colab import drive\n",
        "drive.mount('/content/drive')\n",
        "filename = '/content/drive/MyDrive/bike-sharing-demand-meta/train.csv'\n",
        "df = pd.read_csv(filename)\n",
        "print(df.shape)\n",
        "df.head()\n",
        "\n",
        "## datetime : 2011-01-01 00:00:00 ~ 2012-12-19 23:00:00\n",
        "## season : 1~4 => 1: spring, 2: summer, 3:fall, 4: winter\n",
        "## weather : 1~4 => Clear, Few clouds, Partly cloudy, Partly cloudy"
      ],
      "execution_count": null,
      "outputs": [
        {
          "output_type": "stream",
          "name": "stdout",
          "text": [
            "Drive already mounted at /content/drive; to attempt to forcibly remount, call drive.mount(\"/content/drive\", force_remount=True).\n",
            "(10886, 12)\n"
          ]
        },
        {
          "output_type": "execute_result",
          "data": {
            "text/html": [
              "<div>\n",
              "<style scoped>\n",
              "    .dataframe tbody tr th:only-of-type {\n",
              "        vertical-align: middle;\n",
              "    }\n",
              "\n",
              "    .dataframe tbody tr th {\n",
              "        vertical-align: top;\n",
              "    }\n",
              "\n",
              "    .dataframe thead th {\n",
              "        text-align: right;\n",
              "    }\n",
              "</style>\n",
              "<table border=\"1\" class=\"dataframe\">\n",
              "  <thead>\n",
              "    <tr style=\"text-align: right;\">\n",
              "      <th></th>\n",
              "      <th>datetime</th>\n",
              "      <th>season</th>\n",
              "      <th>holiday</th>\n",
              "      <th>workingday</th>\n",
              "      <th>weather</th>\n",
              "      <th>temp</th>\n",
              "      <th>atemp</th>\n",
              "      <th>humidity</th>\n",
              "      <th>windspeed</th>\n",
              "      <th>casual</th>\n",
              "      <th>registered</th>\n",
              "      <th>count</th>\n",
              "    </tr>\n",
              "  </thead>\n",
              "  <tbody>\n",
              "    <tr>\n",
              "      <th>0</th>\n",
              "      <td>2011-01-01 00:00:00</td>\n",
              "      <td>1</td>\n",
              "      <td>0</td>\n",
              "      <td>0</td>\n",
              "      <td>1</td>\n",
              "      <td>9.84</td>\n",
              "      <td>14.395</td>\n",
              "      <td>81</td>\n",
              "      <td>0.0</td>\n",
              "      <td>3</td>\n",
              "      <td>13</td>\n",
              "      <td>16</td>\n",
              "    </tr>\n",
              "    <tr>\n",
              "      <th>1</th>\n",
              "      <td>2011-01-01 01:00:00</td>\n",
              "      <td>1</td>\n",
              "      <td>0</td>\n",
              "      <td>0</td>\n",
              "      <td>1</td>\n",
              "      <td>9.02</td>\n",
              "      <td>13.635</td>\n",
              "      <td>80</td>\n",
              "      <td>0.0</td>\n",
              "      <td>8</td>\n",
              "      <td>32</td>\n",
              "      <td>40</td>\n",
              "    </tr>\n",
              "    <tr>\n",
              "      <th>2</th>\n",
              "      <td>2011-01-01 02:00:00</td>\n",
              "      <td>1</td>\n",
              "      <td>0</td>\n",
              "      <td>0</td>\n",
              "      <td>1</td>\n",
              "      <td>9.02</td>\n",
              "      <td>13.635</td>\n",
              "      <td>80</td>\n",
              "      <td>0.0</td>\n",
              "      <td>5</td>\n",
              "      <td>27</td>\n",
              "      <td>32</td>\n",
              "    </tr>\n",
              "    <tr>\n",
              "      <th>3</th>\n",
              "      <td>2011-01-01 03:00:00</td>\n",
              "      <td>1</td>\n",
              "      <td>0</td>\n",
              "      <td>0</td>\n",
              "      <td>1</td>\n",
              "      <td>9.84</td>\n",
              "      <td>14.395</td>\n",
              "      <td>75</td>\n",
              "      <td>0.0</td>\n",
              "      <td>3</td>\n",
              "      <td>10</td>\n",
              "      <td>13</td>\n",
              "    </tr>\n",
              "    <tr>\n",
              "      <th>4</th>\n",
              "      <td>2011-01-01 04:00:00</td>\n",
              "      <td>1</td>\n",
              "      <td>0</td>\n",
              "      <td>0</td>\n",
              "      <td>1</td>\n",
              "      <td>9.84</td>\n",
              "      <td>14.395</td>\n",
              "      <td>75</td>\n",
              "      <td>0.0</td>\n",
              "      <td>0</td>\n",
              "      <td>1</td>\n",
              "      <td>1</td>\n",
              "    </tr>\n",
              "  </tbody>\n",
              "</table>\n",
              "</div>"
            ],
            "text/plain": [
              "              datetime  season  holiday  ...  casual  registered  count\n",
              "0  2011-01-01 00:00:00       1        0  ...       3          13     16\n",
              "1  2011-01-01 01:00:00       1        0  ...       8          32     40\n",
              "2  2011-01-01 02:00:00       1        0  ...       5          27     32\n",
              "3  2011-01-01 03:00:00       1        0  ...       3          10     13\n",
              "4  2011-01-01 04:00:00       1        0  ...       0           1      1\n",
              "\n",
              "[5 rows x 12 columns]"
            ]
          },
          "metadata": {},
          "execution_count": 18
        }
      ]
    },
    {
      "cell_type": "code",
      "metadata": {
        "colab": {
          "base_uri": "https://localhost:8080/",
          "height": 80
        },
        "id": "HneQDz71C5Xy",
        "outputId": "0b04f4ab-3cb3-46b0-fae1-10b57362f9df"
      },
      "source": [
        "mask = df['datetime']=='2011-04-19 09:00:00'    ##19일까지밖에없네\n",
        "df[mask]"
      ],
      "execution_count": null,
      "outputs": [
        {
          "output_type": "execute_result",
          "data": {
            "text/html": [
              "<div>\n",
              "<style scoped>\n",
              "    .dataframe tbody tr th:only-of-type {\n",
              "        vertical-align: middle;\n",
              "    }\n",
              "\n",
              "    .dataframe tbody tr th {\n",
              "        vertical-align: top;\n",
              "    }\n",
              "\n",
              "    .dataframe thead th {\n",
              "        text-align: right;\n",
              "    }\n",
              "</style>\n",
              "<table border=\"1\" class=\"dataframe\">\n",
              "  <thead>\n",
              "    <tr style=\"text-align: right;\">\n",
              "      <th></th>\n",
              "      <th>datetime</th>\n",
              "      <th>season</th>\n",
              "      <th>holiday</th>\n",
              "      <th>workingday</th>\n",
              "      <th>weather</th>\n",
              "      <th>temp</th>\n",
              "      <th>atemp</th>\n",
              "      <th>humidity</th>\n",
              "      <th>windspeed</th>\n",
              "      <th>casual</th>\n",
              "      <th>registered</th>\n",
              "      <th>count</th>\n",
              "    </tr>\n",
              "  </thead>\n",
              "  <tbody>\n",
              "    <tr>\n",
              "      <th>1763</th>\n",
              "      <td>2011-04-19 09:00:00</td>\n",
              "      <td>2</td>\n",
              "      <td>0</td>\n",
              "      <td>1</td>\n",
              "      <td>3</td>\n",
              "      <td>21.32</td>\n",
              "      <td>25.0</td>\n",
              "      <td>63</td>\n",
              "      <td>6.0032</td>\n",
              "      <td>23</td>\n",
              "      <td>139</td>\n",
              "      <td>162</td>\n",
              "    </tr>\n",
              "  </tbody>\n",
              "</table>\n",
              "</div>"
            ],
            "text/plain": [
              "                 datetime  season  holiday  ...  casual  registered  count\n",
              "1763  2011-04-19 09:00:00       2        0  ...      23         139    162\n",
              "\n",
              "[1 rows x 12 columns]"
            ]
          },
          "metadata": {},
          "execution_count": 19
        }
      ]
    },
    {
      "cell_type": "code",
      "metadata": {
        "id": "wdxVCcUyTGyu",
        "colab": {
          "base_uri": "https://localhost:8080/"
        },
        "outputId": "5a791809-6902-4f54-853c-28a9c6359257"
      },
      "source": [
        "target = 'count'\n",
        "\n",
        "## 결측치 확인. : (없음.)\n",
        "[(x, df[x].isnull().sum()) for x in df.columns if df[x].isnull().any()]\n",
        "\n",
        "# from pandas_profiling import ProfileReport\n",
        "# # !pip install --upgrade pandas\n",
        "\n",
        "# # !pip install pandas-profiling[notebook]\n",
        "# # !pip install -U pandas-profiling      ## update하기.\n",
        "# report = ProfileReport(df)\n",
        "# report    ## categorical 한 columns : Type, Method, Regionname, CouncilArea ; (4개)"
      ],
      "execution_count": null,
      "outputs": [
        {
          "output_type": "execute_result",
          "data": {
            "text/plain": [
              "[]"
            ]
          },
          "metadata": {},
          "execution_count": 20
        }
      ]
    },
    {
      "cell_type": "code",
      "metadata": {
        "colab": {
          "base_uri": "https://localhost:8080/",
          "height": 462
        },
        "id": "Vt4L5iUoSgar",
        "outputId": "a584ad12-cf9d-4b7c-97a2-1d5e45269844"
      },
      "source": [
        "## target분포 확인\n",
        "from matplotlib import pyplot as plt\n",
        "import seaborn as sns\n",
        "\n",
        "f, ax = plt.subplots(figsize = (10, 6)) \n",
        "sns.distplot(df[target])\n",
        "plt.axvline(df[target].median(), color='red');\n",
        "plt.axvline(df[target].mean(), color='blue')\n",
        "print(df[target].median())"
      ],
      "execution_count": null,
      "outputs": [
        {
          "output_type": "stream",
          "name": "stderr",
          "text": [
            "/usr/local/lib/python3.7/dist-packages/seaborn/distributions.py:2557: FutureWarning: `distplot` is a deprecated function and will be removed in a future version. Please adapt your code to use either `displot` (a figure-level function with similar flexibility) or `histplot` (an axes-level function for histograms).\n",
            "  warnings.warn(msg, FutureWarning)\n"
          ]
        },
        {
          "output_type": "stream",
          "name": "stdout",
          "text": [
            "145.0\n"
          ]
        },
        {
          "output_type": "display_data",
          "data": {
            "image/png": "[encoded data removed]",
            "text/plain": [
              "<Figure size 720x432 with 1 Axes>"
            ]
          },
          "metadata": {
            "needs_background": "light"
          }
        }
      ]
    },
    {
      "cell_type": "code",
      "metadata": {
        "id": "Nr3iWcGLIcqn"
      },
      "source": [
        "# np.percentile 사용해 이상치 제거\n",
        "df = df[(df[target] >= np.percentile(df[target], 0.05)) & \n",
        "        (df[target] <= np.percentile(df[target], 99.5))]"
      ],
      "execution_count": null,
      "outputs": []
    },
    {
      "cell_type": "code",
      "metadata": {
        "id": "K2FetGEnggN4"
      },
      "source": [
        "target_log = np.log1p(df[target])   ## log1p= ln(1 + x)  ;  np.log(df[target]+1)\n",
        "df['target_log'] = target_log\n",
        "# df = df.drop(columns=[target], axis=1)\n",
        "# target = 'target_log'"
      ],
      "execution_count": null,
      "outputs": []
    },
    {
      "cell_type": "code",
      "metadata": {
        "id": "zlZxhrAxS8pb"
      },
      "source": [
        "# target_log = np.log1p(df[target])   ## log1p= ln(1 + x)  ;  np.log(df[target]+1)\n",
        "\n",
        "# df['area_log'] = target_log\n",
        "# sns.histplot(target_log);\n",
        "# plt.axvline(df['area_log'].median(), color='red');    ## 변환해도 target이 skewed된 분포이기 때문에, 정규분포에 가깝도록 median을 기준라인으로 잡겠습니다.\n",
        "# plt.axvline(df['area_log'].mean(), color='blue')\n",
        "# print(df['area_log'].median())"
      ],
      "execution_count": null,
      "outputs": []
    },
    {
      "cell_type": "code",
      "metadata": {
        "id": "IYZmEXyeKwmN"
      },
      "source": [
        "# target = 'area_log'\n",
        "# df = df.drop(columns=['area'])    ## target의 최대 최소 분포 차가 너무 커서 log값을 씌워 차이를 완화해줌."
      ],
      "execution_count": null,
      "outputs": []
    },
    {
      "cell_type": "code",
      "metadata": {
        "id": "IdIQjJ5OUcwk"
      },
      "source": [
        "# ## target과 feature간 상관관계 확인.\n",
        "\n",
        "# df.corr().iloc[:,-1].sort_values(ascending = False)\n",
        "\n",
        "# for i in df.columns:\n",
        "#   f, ax = plt.subplots(figsize=(4,4))\n",
        "#   plt.xlabel(i)\n",
        "#   ax.scatter(df[i], df[target])\n",
        "\n",
        "# for i in df.columns:\n",
        "#   plt.scatter(df[i], df[target])"
      ],
      "execution_count": null,
      "outputs": []
    },
    {
      "cell_type": "code",
      "metadata": {
        "id": "TtOrpxfADuoT"
      },
      "source": [
        "# sns.set(style='whitegrid', context='notebook')\n",
        "# sns.pairplot(df.columns, height=2)"
      ],
      "execution_count": null,
      "outputs": []
    },
    {
      "cell_type": "code",
      "metadata": {
        "colab": {
          "base_uri": "https://localhost:8080/"
        },
        "id": "_hzverPRRs77",
        "outputId": "ec6a383a-f707-4a8f-ebe5-00d1b975a8ad"
      },
      "source": [
        "## 각 column data 확인.\n",
        "for i in df.columns:\n",
        "  print(i, df[i].unique())"
      ],
      "execution_count": null,
      "outputs": [
        {
          "output_type": "stream",
          "name": "stdout",
          "text": [
            "datetime ['2011-01-01 00:00:00' '2011-01-01 01:00:00' '2011-01-01 02:00:00' ...\n",
            " '2012-12-19 21:00:00' '2012-12-19 22:00:00' '2012-12-19 23:00:00']\n",
            "season [1 2 3 4]\n",
            "holiday [0 1]\n",
            "workingday [0 1]\n",
            "weather [1 2 3 4]\n",
            "temp [ 9.84  9.02  8.2  13.12 15.58 14.76 17.22 18.86 18.04 16.4  13.94 12.3\n",
            " 10.66  6.56  5.74  7.38  4.92 11.48  4.1   3.28  2.46 21.32 22.96 23.78\n",
            " 24.6  19.68 22.14 20.5  27.06 26.24 25.42 27.88 28.7  30.34 31.16 29.52\n",
            " 33.62 35.26 36.9  32.8  31.98 34.44 36.08 37.72 38.54  1.64  0.82 39.36\n",
            " 41.  ]\n",
            "atemp [14.395 13.635 12.88  17.425 19.695 16.665 21.21  22.725 21.97  20.455\n",
            " 11.365 10.605  9.85   8.335  6.82   5.305  6.06   9.09  12.12   7.575\n",
            " 15.91   3.03   3.79   4.545 15.15  18.18  25.    26.515 27.275 29.545\n",
            " 23.485 25.76  31.06  30.305 24.24  18.94  31.82  32.575 33.335 28.79\n",
            " 34.85  35.605 37.12  40.15  41.665 40.91  39.395 34.09  28.03  36.365\n",
            " 37.88  42.425 43.94  38.635  1.515  0.76   2.275 43.18  44.695 45.455]\n",
            "humidity [ 81  80  75  86  76  77  72  82  88  87  94 100  71  66  57  46  42  39\n",
            "  44  47  50  43  40  35  30  32  64  69  55  59  63  68  74  51  56  52\n",
            "  49  48  37  33  28  38  36  93  29  53  34  54  41  45  92  62  58  61\n",
            "  60  65  70  27  25  26  31  73  21  24  23  22  19  15  67  10   8  12\n",
            "  14  13  17  16  18  20  85   0  83  84  78  79  89  97  90  96  91]\n",
            "windspeed [ 0.      6.0032 16.9979 19.0012 19.9995 12.998  15.0013  8.9981 11.0014\n",
            " 22.0028 30.0026 23.9994 27.9993 26.0027  7.0015 32.9975 36.9974 31.0009\n",
            " 35.0008 39.0007 43.9989 40.9973 51.9987 46.0022 50.0021 43.0006 56.9969\n",
            " 47.9988]\n",
            "casual [  3   8   5   0   2   1  12  26  29  47  35  40  41  15   9   6  11   4\n",
            "   7  16  20  19  10  13  14  18  17  21  33  23  22  28  48  52  42  24\n",
            "  30  27  32  58  62  51  25  31  59  45  73  55  68  34  38 102  84  39\n",
            "  36  43  46  60  80  83  74  37  70  81 100  99  54  88  97 144 149 124\n",
            "  98  50  72  57  71  67  95  90 126 174 168 170 175 138  92  56 111  89\n",
            "  69 139 166 219 240 147 148  78  53  63  79 114  94  85 128  93 121 156\n",
            " 135 103  44  49  64  91 119 167 181 179 161 143  75  66 109 123 113  65\n",
            "  86  82 132 129 196 142 122 106  61 107 120 195 183 206 158 137  76 115\n",
            " 150 188 193 180 127 154 108  96 110 112 169 131 176 134 162 153 210 118\n",
            " 141 146 159 178 177 136 215 198 248 225 194 237 242 235 224 236 222  77\n",
            "  87 101 145 182 171 160 133 105 104 187 221 201 205 234 185 164 200 130\n",
            " 155 116 125 204 186 214 245 218 217 152 191 256 251 262 189 212 272 223\n",
            " 208 165 229 151 117 199 140 226 286 352 357 367 291 233 190 283 295 232\n",
            " 173 184 172 320 355 326 321 354 299 227 254 260 207 274 308 288 311 253\n",
            " 197 163 275 298 282 266 220 241 230 157 293 257 269 255 228 276 332 361\n",
            " 356 331 279 203 250 259 297 265 267 192 239 238 213 264 244 243 246 289\n",
            " 287 209 263 249 247 284 327 325 312 350 258 362 310 317 268 202 294 280\n",
            " 216 292 304]\n",
            "registered [ 13  32  27  10   1   0   2   7   6  24  30  55  47  71  70  52  26  31\n",
            "  25  17  16   8   4  19  46  54  73  64  67  58  43  29  20   9   5   3\n",
            "  63 153  81  33  41  48  53  66 146 148 102  49  11  36  92 177  98  37\n",
            "  50  79  68 202 179 110  34  87 192 109  74  65  85 186 166 127  82  40\n",
            "  18  95 216 116  42  57  78  59 163 158  51  76 190 125 178  39  14  15\n",
            "  56  60  90  83  69  28  35  22  12  77  44  38  75 184 174 154  97 214\n",
            "  45  72 130  94 139 135 197 137 141 156 117 155 134  89  80 108  61 124\n",
            " 132 196 107 114 172 165 105 119 183 175  88  62  86 170 145 217  91 195\n",
            " 152  21 126 115 223 207 123 236 128 151 100 198 157 168  84  99 173 121\n",
            " 159  93  23 212 111 193 103 113 122 106  96 249 218 194 213 191 142 224\n",
            " 244 143 267 256 211 161 131 246 118 164 275 204 230 243 112 238 144 185\n",
            " 101 222 138 206 104 200 129 247 140 209 136 176 120 229 210 133 259 147\n",
            " 227 150 282 162 265 260 189 237 245 205 308 283 248 303 291 280 208 286\n",
            " 352 290 262 203 284 293 160 182 316 338 279 187 277 362 321 331 372 377\n",
            " 350 220 472 450 268 435 169 225 464 485 323 388 367 266 255 415 233 467\n",
            " 456 305 171 470 385 253 215 240 235 263 221 351 539 458 339 301 397 271\n",
            " 532 480 365 241 421 242 234 341 394 540 463 361 429 359 180 188 261 254\n",
            " 366 181 398 272 167 149 325 521 426 298 428 487 431 288 239 453 454 345\n",
            " 417 434 278 285 442 484 451 252 471 488 270 258 264 281 410 516 500 343\n",
            " 311 432 475 479 355 329 199 400 414 423 232 219 302 529 510 348 346 441\n",
            " 473 335 445 555 527 273 364 299 269 257 342 324 226 391 466 297 517 486\n",
            " 489 492 228 289 455 382 380 295 251 418 412 340 433 231 333 514 483 276\n",
            " 478 287 381 334 347 320 493 491 369 201 408 378 443 460 465 313 513 292\n",
            " 497 376 326 413 328 525 296 452 506 393 368 337 567 462 349 319 300 515\n",
            " 373 399 507 396 512 503 386 427 312 384 530 310 536 437 505 371 375 534\n",
            " 469 474 553 402 274 523 448 409 387 438 407 250 459 425 422 379 392 430\n",
            " 401 306 370 449 363 389 374 436 356 317 446 294 508 315 522 494 327 495\n",
            " 404 447 504 318 579 551 498 533 332 554 509 573 545 395 440 547 557 623\n",
            " 571 614 638 628 642 647 602 634 648 353 322 357 314 563 615 681 601 543\n",
            " 577 354 661 653 304 645 646 419 610 677 618 595 565 586 670 656 626 581\n",
            " 546 604 596 383 621 564 309 360 330 549 589 461 631 673 358 651 663 538\n",
            " 616 662 344 640 659 770 608 617 584 307 667 605 641 594 629 603 518 665\n",
            " 499 696 688 570 675 405 411 643 733 719 390 680 679 531 637 652 703 537\n",
            " 576 613 715 726 598 625 444 672 548 682 716 609 698 572 669 633 725 704\n",
            " 658 620 542 575 511 749 644 740 735 560 739 439 660 697 336 619 712 624\n",
            " 580 678 684 468 649 718 636 578 481 664 711 689 424 699 552 709 591 734\n",
            " 723 558 561 403 502 692 622 741 761 690 562 702 727 406 496 708 758 744\n",
            " 639 781 756 544 655 416 773 737 566 713 800 779 803 720 668 490 568 597\n",
            " 477 583 501 556 593 420 541 694 650 559 666 700 693 582]\n",
            "count [ 16  40  32  13   1   2   3   8  14  36  56  84  94 106 110  93  67  35\n",
            "  37  34  28  39  17   9   6  20  53  70  75  59  74  76  65  30  22  31\n",
            "   5  64 154  88  44  51  61  77  72 157  52  12   4 179 100  42  57  78\n",
            "  97  63  83 212 182 112  54  48  11  33 195 115  46  79  71  62  89 190\n",
            " 169 132  43  19  95 219 122  45  86 172 163  69  23   7 210 134  73  50\n",
            "  87 187 123  15  25  98 102  55  10  49  82  92  41  38 188  47 178 155\n",
            "  24  18  27  99 217 130 136  29 128  81  68 139 137 202  60 162 144 158\n",
            " 117  90 159 101 118 129  26 104  91 113 105  21  80 125 133 197 109 161\n",
            " 135 116 176 168 108 103 175 147  96 220 127 205 174 121 230  66 114 216\n",
            " 243 152 199  58 166 170 165 160 140 211 120 145 256 126 223  85 206 124\n",
            " 255 222 285 146 274 272 185 191 232 327 224 107 119 196 171 214 242 148\n",
            " 268 201 150 111 167 228 198 204 164 233 257 151 248 235 141 249 194 259\n",
            " 156 153 244 213 181 221 250 304 241 271 282 225 253 237 299 142 313 310\n",
            " 207 138 280 173 332 331 149 267 301 312 278 281 184 215 367 349 292 303\n",
            " 339 143 189 366 386 273 325 356 314 343 333 226 203 177 263 297 288 236\n",
            " 240 131 452 383 284 291 309 321 193 337 388 300 200 180 209 354 361 306\n",
            " 277 428 362 286 351 192 411 421 276 264 238 266 371 269 537 518 218 265\n",
            " 459 186 517 544 365 290 410 396 296 440 533 520 258 450 246 260 344 553\n",
            " 470 298 347 373 436 378 342 289 340 382 390 358 385 239 374 598 524 384\n",
            " 425 611 550 434 318 442 401 234 594 527 364 387 491 398 270 279 294 295\n",
            " 322 456 437 392 231 394 453 308 604 480 283 565 489 487 183 302 547 513\n",
            " 454 486 467 572 525 379 502 558 564 391 293 247 317 369 420 451 404 341\n",
            " 251 335 417 363 357 438 579 556 407 336 334 477 539 551 424 346 353 481\n",
            " 506 432 409 466 326 254 463 380 275 311 315 360 350 252 328 476 227 601\n",
            " 586 423 330 569 538 370 498 638 607 416 261 355 552 208 468 449 381 377\n",
            " 397 492 427 461 422 305 375 376 414 447 408 418 457 545 496 368 245 596\n",
            " 563 443 562 229 316 402 287 372 514 472 511 488 419 595 578 400 348 587\n",
            " 497 433 475 406 430 324 262 323 412 530 543 413 435 555 523 441 529 532\n",
            " 585 399 584 559 307 582 571 426 516 465 329 483 600 570 628 531 455 389\n",
            " 505 359 431 460 590 429 599 338 566 482 568 540 495 345 591 593 446 485\n",
            " 393 500 473 352 320 479 444 462 405 620 499 625 395 528 319 519 445 512\n",
            " 471 508 526 509 484 448 515 549 501 612 597 464 644 712 676 734 662 782\n",
            " 749 623 713 746 651 686 690 679 685 648 560 503 521 554 541 721 801 561\n",
            " 573 589 729 618 494 757 800 684 744 759 822 698 490 536 655 643 626 615\n",
            " 567 617 632 646 692 704 624 656 610 738 671 678 660 658 635 681 616 522\n",
            " 673 781 775 576 677 748 776 557 743 666 813 504 627 706 641 575 639 769\n",
            " 680 546 717 710 458 622 705 630 732 770 439 779 659 602 478 733 650 474\n",
            " 634 745 812 669 642 730 672 645 694 493 668 647 702 665 834 790 415 724\n",
            " 700 793 723 534 831 613 653 719 823 403 693 603 583 542 614 580 811 795\n",
            " 747 581 722 689 631 649 819 674 830 814 633 825 629 835 667 755 794 661\n",
            " 772 657 771 777 652 739 767 741 469 605 640 737 810 577 818 682 832 791\n",
            " 654 725 808 792 696 701 750 758 766 715 783 683 774 797 784 687 809 785\n",
            " 761 806 507 798 827 670 637 619 592 817 788 588 606 608 691 711 663 731\n",
            " 708 609 688 636]\n",
            "target_log [2.83321334 3.71357207 3.49650756 2.63905733 0.69314718 1.09861229\n",
            " 1.38629436 2.19722458 2.7080502  3.61091791 4.04305127 4.44265126\n",
            " 4.55387689 4.67282883 4.7095302  4.54329478 4.21950771 3.58351894\n",
            " 3.63758616 3.55534806 3.36729583 3.68887945 2.89037176 2.30258509\n",
            " 1.94591015 3.04452244 3.98898405 4.26267988 4.33073334 4.09434456\n",
            " 4.31748811 4.34380542 4.18965474 3.4339872  3.13549422 3.4657359\n",
            " 1.79175947 4.17438727 5.04342512 4.48863637 3.80666249 3.95124372\n",
            " 4.12713439 4.35670883 4.29045944 5.06259503 3.97029191 2.56494936\n",
            " 1.60943791 5.19295685 4.61512052 3.76120012 4.06044301 4.36944785\n",
            " 4.58496748 4.15888308 4.4308168  5.36129217 5.20948615 4.72738782\n",
            " 4.00733319 3.8918203  2.48490665 3.52636052 5.27811466 4.75359019\n",
            " 3.8501476  4.38202663 4.27666612 4.14313473 4.49980967 5.25227343\n",
            " 5.13579844 4.89034913 3.78418963 2.99573227 4.56434819 5.39362755\n",
            " 4.81218436 3.8286414  4.46590812 5.15329159 5.09986643 4.24849524\n",
            " 3.17805383 2.07944154 5.35185813 4.90527478 4.30406509 3.93182563\n",
            " 4.47733681 5.23644196 4.82028157 2.77258872 3.25809654 4.59511985\n",
            " 4.63472899 4.02535169 2.39789527 3.91202301 4.41884061 4.53259949\n",
            " 3.73766962 3.66356165 5.24174702 3.87120101 5.18738581 5.04985601\n",
            " 3.21887582 2.94443898 3.33220451 4.60517019 5.38449506 4.87519732\n",
            " 4.91998093 3.40119738 4.8598124  4.40671925 4.2341065  4.94164242\n",
            " 4.92725369 5.31320598 4.11087386 5.0937502  4.97673374 5.0689042\n",
            " 4.77068462 4.51085951 5.07517382 4.62497281 4.77912349 4.86753445\n",
            " 3.29583687 4.65396035 4.52178858 4.73619845 4.66343909 3.09104245\n",
            " 4.39444915 4.83628191 4.8978398  5.28826703 4.70048037 5.08759634\n",
            " 4.91265489 4.76217393 5.17614973 5.12989871 4.69134788 4.6443909\n",
            " 5.170484   4.99721227 4.57471098 5.3981627  4.85203026 5.32787617\n",
            " 5.16478597 4.80402104 5.44241771 4.20469262 4.74493213 5.37989735\n",
            " 5.49716823 5.03043792 5.29831737 4.07753744 5.11799381 5.14166356\n",
            " 5.11198779 5.08140436 4.94875989 5.35658627 4.79579055 4.98360662\n",
            " 5.54907608 4.84418709 5.41164605 4.4543473  5.33271879 4.82831374\n",
            " 5.54517744 5.40717177 5.65599181 4.99043259 5.6167711  5.6094718\n",
            " 5.22574667 5.25749537 5.45103845 5.79301361 5.4161004  4.68213123\n",
            " 4.78749174 5.28320373 5.14749448 5.37063803 5.49306144 5.00394631\n",
            " 5.59471138 5.3082677  5.01727984 4.71849887 5.12396398 5.433722\n",
            " 5.29330482 5.32300998 5.10594547 5.45532112 5.55295958 5.02388052\n",
            " 5.5174529  5.46383181 4.95582706 5.52146092 5.27299956 5.56068163\n",
            " 5.05624581 5.0369526  5.50125821 5.36597602 5.20400669 5.40267738\n",
            " 5.52545294 5.72031178 5.48893773 5.60580207 5.6454469  5.420535\n",
            " 5.53733427 5.47227067 5.70378247 4.96284463 5.74939299 5.73979291\n",
            " 5.33753808 4.93447393 5.63835467 5.1590553  5.80814249 5.80513497\n",
            " 5.01063529 5.59098698 5.71042702 5.74620319 5.63121178 5.64190707\n",
            " 5.22035583 5.37527841 5.90808294 5.85793315 5.68017261 5.7170277\n",
            " 5.82894562 4.9698133  5.24702407 5.90536185 5.95842469 5.61312811\n",
            " 5.78689738 5.87773578 5.75257264 5.84064166 5.81114099 5.42495002\n",
            " 5.31811999 5.18178355 5.5759491  5.69709349 5.66642669 5.46806014\n",
            " 5.48479693 4.88280192 6.11589213 5.95064255 5.65248918 5.6767538\n",
            " 5.7365723  5.77455155 5.26785816 5.8230459  5.96357934 5.70711026\n",
            " 5.30330491 5.19849703 5.34710753 5.87211779 5.89164421 5.72684775\n",
            " 5.62762111 6.06145692 5.89440283 5.65948222 5.86363118 5.26269019\n",
            " 6.02102335 6.04500531 5.62401751 5.57972983 5.47646355 5.58724866\n",
            " 5.91889385 5.59842196 6.28785856 6.25190388 5.38907173 5.58349631\n",
            " 6.13122649 5.23110862 6.24997524 6.30078579 5.90263333 5.67332327\n",
            " 6.01859321 5.98393628 5.69373214 6.08904488 6.28039584 6.25575004\n",
            " 5.55682806 6.11146734 5.50938834 5.56452041 5.84354442 6.31716469\n",
            " 6.15485809 5.70044357 5.85220248 5.9242558  6.0799332  5.93753621\n",
            " 5.83773045 5.66988092 5.83188248 5.94803499 5.96870756 5.88332239\n",
            " 5.95583737 5.48063892 5.92692603 6.3952616  6.26339826 5.95324333\n",
            " 6.05443935 6.41673228 6.31173481 6.07534603 5.7651911  6.09356977\n",
            " 5.99645209 5.45958551 6.38856141 6.26909628 5.89989735 5.96100534\n",
            " 6.19847872 5.98896142 5.60211882 5.6347896  5.68697536 5.69035945\n",
            " 5.77765232 6.12468339 6.08221891 5.97380961 5.44673737 5.97888576\n",
            " 6.1180972  5.73334128 6.40522846 6.17586727 5.64897424 6.33859408\n",
            " 6.19440539 6.19031541 5.21493576 5.71373281 6.30627529 6.24222327\n",
            " 6.12029742 6.18826412 6.1484683  6.35088572 6.26530121 5.94017125\n",
            " 6.22059017 6.32614947 6.33682573 5.97126184 5.68357977 5.51342875\n",
            " 5.76205138 5.91350301 6.04263283 6.11368218 6.00388707 5.83481074\n",
            " 5.52942909 5.81711116 6.03548143 5.89715387 5.88053299 6.08449941\n",
            " 6.3630281  6.32256524 6.01126717 5.82008293 5.81413053 6.16961073\n",
            " 6.29156914 6.31354805 6.05208917 5.84932478 5.86929691 6.17794411\n",
            " 6.228511   6.07073773 6.01615716 6.14632926 5.78996017 5.54126355\n",
            " 6.13988455 5.94279938 5.62040087 5.74300319 5.75574221 5.88887796\n",
            " 5.86078622 5.53338949 5.79605775 6.16751649 5.42934563 6.40025745\n",
            " 6.37502482 6.04973346 5.80211838 6.34563636 6.28971557 5.91620206\n",
            " 6.2126061  6.45990445 6.41017488 6.03308622 5.5683445  5.87493073\n",
            " 6.315358   5.34233425 6.15060277 6.10924758 5.94542061 5.9348942\n",
            " 5.98645201 6.20050917 6.0591232  6.13556489 6.04737218 5.7235851\n",
            " 5.92958914 5.93224519 6.02827852 6.10479323 6.01371516 6.03787092\n",
            " 6.12686918 6.30261898 6.20859003 5.91079664 5.50533154 6.39191711\n",
            " 6.33505425 6.09582456 6.33327963 5.43807931 5.75890177 5.99893656\n",
            " 5.66296048 5.92157842 6.2441669  6.15909539 6.23832463 6.19236249\n",
            " 6.04025471 6.39024067 6.36130248 5.99396143 5.85507192 6.37672695\n",
            " 6.21060008 6.07304453 6.16541785 6.00881319 6.06610809 5.78382518\n",
            " 5.57215403 5.78074352 6.02344759 6.27476202 6.29894925 6.02586597\n",
            " 6.07764224 6.32076829 6.26149168 6.09130988 6.27287701 6.27852142\n",
            " 6.37331979 5.99146455 6.37161185 6.32793678 5.73009978 6.36818719\n",
            " 6.34913899 6.05678401 6.24804287 6.14418563 5.79909265 6.18208491\n",
            " 6.39859493 6.34738921 6.44413126 6.27664349 6.12249281 5.96614674\n",
            " 6.22653667 5.88610403 6.06842559 6.13339804 6.38181602 6.06378521\n",
            " 6.39692966 5.82600011 6.3403593  6.18001665 6.34388043 6.29341928\n",
            " 6.20657593 5.84643878 6.38350663 6.38687932 6.10255859 6.18620862\n",
            " 5.97635091 6.2166061  6.16120732 5.86646806 5.77144112 6.1737861\n",
            " 6.09807428 6.13772705 6.00635316 6.43133108 6.2146081  6.43935037\n",
            " 5.98141421 6.27098843 5.768321   6.25382881 6.10031895 6.24027585\n",
            " 6.15697899 6.23244802 6.26720055 6.23441073 6.18414889 6.10702289\n",
            " 6.24610677 6.30991828 6.21860012 6.41836494 6.39359075 6.14203741\n",
            " 6.46925032 6.56948142 6.51767127 6.5998705  6.49677499 6.6631327\n",
            " 6.62007321 6.43615037 6.57088296 6.61606519 6.48004456 6.53233429\n",
            " 6.53813982 6.5220928  6.53087763 6.47543272 6.32972091 6.22257627\n",
            " 6.25766759 6.31896811 6.295266   6.58202514 6.68710861 6.33150185\n",
            " 6.3526294  6.38012254 6.59304453 6.42810527 6.20455776 6.63068339\n",
            " 6.68586095 6.52941884 6.61338422 6.63331843 6.7129562  6.54965074\n",
            " 6.19644413 6.28599809 6.48616079 6.46769873 6.44094654 6.42324696\n",
            " 6.34212142 6.42648846 6.45047042 6.47234629 6.54103    6.5581978\n",
            " 6.43775165 6.48768402 6.41509696 6.60529792 6.51025834 6.52062113\n",
            " 6.49375384 6.49072353 6.45519856 6.52502966 6.42486902 6.25958146\n",
            " 6.51323011 6.66185474 6.65415252 6.35784227 6.51914729 6.61873898\n",
            " 6.65544035 6.32435896 6.61204103 6.50279005 6.70196037 6.22455843\n",
            " 6.44254017 6.56103067 6.4645883  6.35610766 6.46146818 6.64639051\n",
            " 6.52356231 6.3044488  6.57646957 6.56667243 6.12905021 6.43454652\n",
            " 6.55961524 6.44730586 6.5971457  6.64768837 6.08677473 6.65929392\n",
            " 6.49223984 6.4019172  6.1717006  6.59850903 6.47850964 6.1633148\n",
            " 6.453625   6.6147256  6.70073111 6.50727771 6.46614472 6.59441346\n",
            " 6.51174533 6.4707995  6.54391185 6.20253552 6.50578406 6.4738907\n",
            " 6.55535689 6.50128967 6.72743172 6.67329797 6.03068526 6.58617165\n",
            " 6.55250789 6.67708346 6.58479139 6.28226675 6.72383244 6.41999493\n",
            " 6.48310735 6.57925121 6.71417053 6.00141488 6.54247196 6.4035742\n",
            " 6.36990098 6.29710932 6.42162227 6.36475076 6.69950034 6.67959919\n",
            " 6.61740298 6.36647045 6.58340922 6.5366916  6.44888939 6.47697236\n",
            " 6.70930434 6.51471269 6.72262979 6.70318811 6.45204895 6.71659477\n",
            " 6.44571982 6.72862861 6.50428817 6.62804138 6.67834211 6.49526556\n",
            " 6.65027905 6.48920493 6.64898455 6.65672652 6.48157713 6.60665019\n",
            " 6.64378973 6.60934924 6.15273269 6.40687999 6.46302946 6.60394382\n",
            " 6.69826805 6.35957387 6.70808408 6.52649486 6.72503364 6.67456139\n",
            " 6.48463524 6.58755001 6.69579892 6.67582322 6.54678541 6.5539334\n",
            " 6.62140565 6.63200178 6.6424868  6.57368017 6.66440902 6.52795792\n",
            " 6.65286303 6.6821086  6.66568372 6.53378884 6.69703425 6.66695679\n",
            " 6.63594656 6.69332367 6.23048145 6.68336095 6.71901315 6.50876914\n",
            " 6.45833828 6.42971948 6.3851944  6.70686234 6.67076632 6.37842618\n",
            " 6.40852879 6.41181827 6.53958596 6.56807791 6.49828215 6.59578051\n",
            " 6.56385553 6.41345896 6.53524127 6.45676966]\n"
          ]
        }
      ]
    },
    {
      "cell_type": "code",
      "metadata": {
        "colab": {
          "base_uri": "https://localhost:8080/",
          "height": 283
        },
        "id": "ebP6qcZq1k7V",
        "outputId": "779170b5-6929-4fdd-92e5-4b6508baa797"
      },
      "source": [
        "## casual, registered\n",
        "fig, ax = plt.subplots()\n",
        "ax.plot(df['casual'])\n",
        "ax.plot(df['registered'])"
      ],
      "execution_count": null,
      "outputs": [
        {
          "output_type": "execute_result",
          "data": {
            "text/plain": [
              "[<matplotlib.lines.Line2D at 0x7f95ecf01d10>]"
            ]
          },
          "metadata": {},
          "execution_count": 29
        },
        {
          "output_type": "display_data",
          "data": {
            "image/png": "[encoded data removed]",
            "text/plain": [
              "<Figure size 432x288 with 1 Axes>"
            ]
          },
          "metadata": {
            "needs_background": "light"
          }
        }
      ]
    },
    {
      "cell_type": "code",
      "metadata": {
        "id": "HTRJMfwQXVad",
        "colab": {
          "base_uri": "https://localhost:8080/"
        },
        "outputId": "3f68c152-c1d3-4dd5-ccaa-0489d1ce63aa"
      },
      "source": [
        "## 시간에 따라 train, test 나누기 (datetime에 맞춰 sort되어 있음.)\n",
        "\n",
        "train = df.loc[:len(df)*0.8,:]\n",
        "test = df.loc[len(df)*0.8:,:]\n",
        "val = train.loc[len(train)*0.8:,:]\n",
        "train = train.loc[:len(train)*0.8,:]\n",
        "\n",
        "\n",
        "print(len(df), len(train), len(val), len(test))\n",
        "print(train)\n",
        "print(val)\n",
        "print(test)"
      ],
      "execution_count": null,
      "outputs": [
        {
          "output_type": "stream",
          "name": "stdout",
          "text": [
            "10833 6923 1730 2180\n",
            "                 datetime  season  holiday  ...  registered  count  target_log\n",
            "0     2011-01-01 00:00:00       1        0  ...          13     16    2.833213\n",
            "1     2011-01-01 01:00:00       1        0  ...          32     40    3.713572\n",
            "2     2011-01-01 02:00:00       1        0  ...          27     32    3.496508\n",
            "3     2011-01-01 03:00:00       1        0  ...          10     13    2.639057\n",
            "4     2011-01-01 04:00:00       1        0  ...           1      1    0.693147\n",
            "...                   ...     ...      ...  ...         ...    ...         ...\n",
            "6918  2012-04-06 14:00:00       2        0  ...         250    490    6.196444\n",
            "6919  2012-04-06 15:00:00       2        0  ...         319    537    6.287859\n",
            "6920  2012-04-06 16:00:00       2        0  ...         352    536    6.285998\n",
            "6921  2012-04-06 17:00:00       2        0  ...         483    655    6.486161\n",
            "6922  2012-04-06 18:00:00       2        0  ...         380    484    6.184149\n",
            "\n",
            "[6923 rows x 13 columns]\n",
            "                 datetime  season  holiday  ...  registered  count  target_log\n",
            "6923  2012-04-06 19:00:00       2        0  ...         297    412    6.023448\n",
            "6924  2012-04-06 20:00:00       2        0  ...         191    252    5.533389\n",
            "6925  2012-04-06 21:00:00       2        0  ...         136    190    5.252273\n",
            "6926  2012-04-06 22:00:00       2        0  ...         124    158    5.068904\n",
            "6927  2012-04-06 23:00:00       2        0  ...          92    113    4.736198\n",
            "...                   ...     ...      ...  ...         ...    ...         ...\n",
            "8662  2012-08-03 07:00:00       3        0  ...         396    421    6.045005\n",
            "8663  2012-08-03 08:00:00       3        0  ...         636    668    6.505784\n",
            "8664  2012-08-03 09:00:00       3        0  ...         327    396    5.983936\n",
            "8665  2012-08-03 10:00:00       3        0  ...         167    249    5.521461\n",
            "8666  2012-08-03 11:00:00       3        0  ...         186    263    5.575949\n",
            "\n",
            "[1730 rows x 13 columns]\n",
            "                  datetime  season  holiday  ...  registered  count  target_log\n",
            "8667   2012-08-03 12:00:00       3        0  ...         243    338    5.826000\n",
            "8668   2012-08-03 13:00:00       3        0  ...         247    345    5.846439\n",
            "8669   2012-08-03 14:00:00       3        0  ...         229    331    5.805135\n",
            "8670   2012-08-03 15:00:00       3        0  ...         268    380    5.942799\n",
            "8671   2012-08-03 16:00:00       3        0  ...         380    492    6.200509\n",
            "...                    ...     ...      ...  ...         ...    ...         ...\n",
            "10881  2012-12-19 19:00:00       4        0  ...         329    336    5.820083\n",
            "10882  2012-12-19 20:00:00       4        0  ...         231    241    5.488938\n",
            "10883  2012-12-19 21:00:00       4        0  ...         164    168    5.129899\n",
            "10884  2012-12-19 22:00:00       4        0  ...         117    129    4.867534\n",
            "10885  2012-12-19 23:00:00       4        0  ...          84     88    4.488636\n",
            "\n",
            "[2180 rows x 13 columns]\n"
          ]
        }
      ]
    },
    {
      "cell_type": "code",
      "metadata": {
        "id": "xCtFgYoHPLxq",
        "colab": {
          "base_uri": "https://localhost:8080/"
        },
        "outputId": "a9198afa-d1df-4f72-b083-9c618cd8a0e9"
      },
      "source": [
        "# 특성공학\n",
        "\n",
        "\n",
        "def engine(df):\n",
        "  df = df.copy()\n",
        "  \n",
        "\n",
        "  df['date'] = df['datetime'].apply(lambda x: x.split(' ')[0])\n",
        "  df['date'] = df['date'].apply(lambda x: x.replace('-',''))\n",
        "  df['date'] = df['date'].astype(int)     ## 20110101\n",
        "  # df['date'].     ## 20110101 =>1, ... 20121231 =>마지막.\n",
        "\n",
        "  df['hour'] = df['datetime'].apply(lambda x: x.split(' ')[1])    ## 시간\n",
        "  df['hour'] = df['hour'].apply(lambda x: x.split(':')[0])    ## 분단위 삭제.\n",
        "  df['hour'] = df['hour'].astype(int)\n",
        "\n",
        "  df['temp_weighted'] = df['temp']*0.4 + df['atemp']*0.6      ## 다중공선성 방지. (체감온도에 조금더 무게를 둬서 두값을 평균냄.)\n",
        "\n",
        "  df = df.drop(columns=['casual','registered', 'datetime', 'temp', 'atemp'], axis=1)   ## multicolinearity 방지\n",
        "  return df\n",
        "\n",
        "train = engine(train)\n",
        "val = engine(val)\n",
        "test = engine(test)\n",
        "\n",
        "y_train_log = train['target_log']\n",
        "y_val_log = val['target_log']\n",
        "y_test_log = test['target_log']\n",
        "\n",
        "train = train.drop(columns=['target_log'], axis=1)\n",
        "val = val.drop(columns=['target_log'], axis=1)\n",
        "test = test.drop(columns=['target_log'], axis=1)\n",
        "\n",
        "y_test_log"
      ],
      "execution_count": null,
      "outputs": [
        {
          "output_type": "execute_result",
          "data": {
            "text/plain": [
              "8667     5.826000\n",
              "8668     5.846439\n",
              "8669     5.805135\n",
              "8670     5.942799\n",
              "8671     6.200509\n",
              "           ...   \n",
              "10881    5.820083\n",
              "10882    5.488938\n",
              "10883    5.129899\n",
              "10884    4.867534\n",
              "10885    4.488636\n",
              "Name: target_log, Length: 2180, dtype: float64"
            ]
          },
          "metadata": {},
          "execution_count": 31
        }
      ]
    },
    {
      "cell_type": "code",
      "metadata": {
        "id": "U9JCmyxpZIzG"
      },
      "source": [
        "# ## pair plot (시간오래걸림)\n",
        "\n",
        "# sns.set(style='whitegrid', context='notebook')\n",
        "# cols = train.columns   ## 혹은 보고싶은 column만 ['~', '~']\n",
        "# sns.pairplot(train[cols], height=2);"
      ],
      "execution_count": null,
      "outputs": []
    },
    {
      "cell_type": "code",
      "metadata": {
        "colab": {
          "base_uri": "https://localhost:8080/"
        },
        "id": "5BjK1KoCI-OR",
        "outputId": "60ef7357-7fce-48b7-9080-fcdd19f7149b"
      },
      "source": [
        "## X, y split\n",
        "\n",
        "feature = train.drop(columns=[target]).columns\n",
        "\n",
        "X_train = train[feature]\n",
        "y_train = train[target]\n",
        "X_val = val[feature]\n",
        "y_val = val[target]\n",
        "X_test = test[feature]\n",
        "y_test = test[target]\n",
        "\n",
        "print(len(df), len(X_train), len(X_val), len(X_test))"
      ],
      "execution_count": null,
      "outputs": [
        {
          "output_type": "stream",
          "name": "stdout",
          "text": [
            "10833 6923 1730 2180\n"
          ]
        }
      ]
    },
    {
      "cell_type": "code",
      "metadata": {
        "id": "3h8lz7MtXT_X",
        "colab": {
          "base_uri": "https://localhost:8080/",
          "height": 386
        },
        "outputId": "4265811c-5e16-437f-87a0-576b95aa2310"
      },
      "source": [
        "## modeling\n",
        "\n",
        "# !pip install category_encoders\n",
        "from category_encoders import OrdinalEncoder\n",
        "from sklearn.model_selection import cross_val_score\n",
        "# from sklearn.feature_selection import f_regression, SelectKBest\n",
        "from sklearn.ensemble import RandomForestRegressor\n",
        "from sklearn.impute import SimpleImputer\n",
        "from sklearn.preprocessing import StandardScaler\n",
        "from sklearn.pipeline import make_pipeline\n",
        "from sklearn.model_selection import validation_curve\n",
        "from sklearn.tree import DecisionTreeRegressor\n",
        "from sklearn.linear_model import LinearRegression, LogisticRegression\n",
        "from sklearn.metrics import mean_absolute_error\n",
        "from sklearn.metrics import mean_squared_log_error\n",
        "\n",
        "pipe = make_pipeline(\n",
        "    OrdinalEncoder(),\n",
        "    # SimpleImputer(strategy='mean'), \n",
        "    # StandardScaler(),\n",
        "    # SelectKBest(f_regression, k=20),\n",
        "    RandomForestRegressor(max_depth=10)\n",
        "    # DecisionTreeRegressor()\n",
        "    # LogisticRegression()\n",
        ")\n",
        "\n",
        "# k = 3\n",
        "# scores = cross_val_score(pipe, X_train, y_train, cv=k, scoring='neg_mean_absolute_error')\n",
        "# print(f'MAE ({k} folds):', -scores)\n",
        "\n",
        "pipe.fit(X_train, y_train_log)\n",
        "print('검증 정확도: ', pipe.score(X_val, y_val_log))\n",
        "\n",
        "y_test_log_pred = pipe.predict(X_test)\n",
        "y_omega = np.expm1(y_test_log_pred)\n",
        "print(mean_absolute_error(y_test, y_omega))\n",
        "print(mean_squared_log_error(y_test, y_omega))\n"
      ],
      "execution_count": null,
      "outputs": [
        {
          "output_type": "error",
          "ename": "ModuleNotFoundError",
          "evalue": "ignored",
          "traceback": [
            "\u001b[0;31m---------------------------------------------------------------------------\u001b[0m",
            "\u001b[0;31mModuleNotFoundError\u001b[0m                       Traceback (most recent call last)",
            "\u001b[0;32m<ipython-input-34-fa049a32282f>\u001b[0m in \u001b[0;36m<module>\u001b[0;34m()\u001b[0m\n\u001b[1;32m      2\u001b[0m \u001b[0;34m\u001b[0m\u001b[0m\n\u001b[1;32m      3\u001b[0m \u001b[0;31m# !pip install category_encoders\u001b[0m\u001b[0;34m\u001b[0m\u001b[0;34m\u001b[0m\u001b[0;34m\u001b[0m\u001b[0m\n\u001b[0;32m----> 4\u001b[0;31m \u001b[0;32mfrom\u001b[0m \u001b[0mcategory_encoders\u001b[0m \u001b[0;32mimport\u001b[0m \u001b[0mOrdinalEncoder\u001b[0m\u001b[0;34m\u001b[0m\u001b[0;34m\u001b[0m\u001b[0m\n\u001b[0m\u001b[1;32m      5\u001b[0m \u001b[0;32mfrom\u001b[0m \u001b[0msklearn\u001b[0m\u001b[0;34m.\u001b[0m\u001b[0mmodel_selection\u001b[0m \u001b[0;32mimport\u001b[0m \u001b[0mcross_val_score\u001b[0m\u001b[0;34m\u001b[0m\u001b[0;34m\u001b[0m\u001b[0m\n\u001b[1;32m      6\u001b[0m \u001b[0;31m# from sklearn.feature_selection import f_regression, SelectKBest\u001b[0m\u001b[0;34m\u001b[0m\u001b[0;34m\u001b[0m\u001b[0;34m\u001b[0m\u001b[0m\n",
            "\u001b[0;31mModuleNotFoundError\u001b[0m: No module named 'category_encoders'",
            "",
            "\u001b[0;31m---------------------------------------------------------------------------\u001b[0;32m\nNOTE: If your import is failing due to a missing package, you can\nmanually install dependencies using either !pip or !apt.\n\nTo view examples of installing some common dependencies, click the\n\"Open Examples\" button below.\n\u001b[0;31m---------------------------------------------------------------------------\u001b[0m\n"
          ],
          "errorDetails": {
            "actions": [
              {
                "action": "open_url",
                "actionText": "Open Examples",
                "url": "/notebooks/snippets/importing_libraries.ipynb"
              }
            ]
          }
        }
      ]
    },
    {
      "cell_type": "code",
      "metadata": {
        "id": "Mt4XxoqTMK7m"
      },
      "source": [
        "## r2 score말고도 explained_variance_score가 있다.\n",
        "\n",
        "# from sklearn.metrics import explained_variance_score\n",
        "# yy=pipe.predict(X_train)\n",
        "# score = explained_variance_score(y_train, yy)"
      ],
      "execution_count": null,
      "outputs": []
    },
    {
      "cell_type": "code",
      "metadata": {
        "id": "m0SecFjibmSN"
      },
      "source": [
        "# depth = range(1, 30, 2)\n",
        "\n",
        "# ts, vs = validation_curve(\n",
        "#     pipe, X_train, y_train\n",
        "#     , param_name='decisiontreeregressor__max_depth'\n",
        "#     , param_range=depth, scoring='neg_mean_absolute_error'\n",
        "#     , cv=3\n",
        "#     , n_jobs=-1\n",
        "# )\n",
        "\n",
        "# train_scores_mean = np.mean(-ts, axis=1)\n",
        "# validation_scores_mean = np.mean(-vs, axis=1)\n",
        "\n",
        "# fig, ax = plt.subplots()\n",
        "\n",
        "# # 훈련세트 검증곡선\n",
        "# ax.plot(depth, train_scores_mean, label='training error')\n",
        "\n",
        "# # 검증세트 검증곡선\n",
        "# ax.plot(depth, validation_scores_mean, label='validation error')\n",
        "\n",
        "# # 이상적인 max_depth\n",
        "# ax.vlines(5,0, train_scores_mean.max(), color='blue')\n",
        "\n",
        "# # 그래프 셋팅\n",
        "# ax.set(title='Validation Curve'\n",
        "#       , xlabel='Model Complexity(max_depth)', ylabel='MAE')\n",
        "# ax.legend()\n",
        "# fig.dpi = 100"
      ],
      "execution_count": null,
      "outputs": []
    },
    {
      "cell_type": "code",
      "metadata": {
        "id": "x2C4CtvqQZew"
      },
      "source": [
        "pipe.named_steps"
      ],
      "execution_count": null,
      "outputs": []
    },
    {
      "cell_type": "code",
      "metadata": {
        "id": "wL5jz7N2_5DI"
      },
      "source": [
        "y_test_base = np.empty(len(y_test))\n",
        "y_test_base.fill(y_test.median())   ## 회귀\n",
        "# y_test_base.fill(int(test[target].mode()))        ##분류\n",
        "\n",
        "y_test_base = pd.DataFrame(y_test_base, columns=[target])\n",
        "print(y_test.median())\n",
        "print(len(y_test), len(y_test_base))\n",
        "print(pipe.score(X_test, y_test_base))\n",
        "print(mean_absolute_error(y_test, y_test_base))     ## y_test.median 이 기준모델이면 163.45 MSE 차이남.\n",
        "print(pipe.score(X_test,y_test))\n",
        "\n",
        "\n",
        "y_test_pred = pipe.predict(X_test)\n",
        "print(mean_absolute_error(y_test, y_test_pred))     ## 모델은 67.86 MSE 차이.  logarithmic 해도 68.766인데...\n",
        "\n",
        "y_test_base"
      ],
      "execution_count": null,
      "outputs": []
    },
    {
      "cell_type": "code",
      "metadata": {
        "id": "tNl2bXBCFUaA"
      },
      "source": [
        "i='windspeed'\n",
        "# f, ax = plt.subplots(figsize=(2,2))\n",
        "plt.xlabel(i)\n",
        "plt.scatter(train[i], train[target], color='b')\n",
        "plt.scatter(test[i], test[target], color='r')"
      ],
      "execution_count": null,
      "outputs": []
    }
  ]
}