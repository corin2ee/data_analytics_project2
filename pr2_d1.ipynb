{
  "nbformat": 4,
  "nbformat_minor": 0,
  "metadata": {
    "colab": {
      "name": "pr2-d1.ipynb",
      "provenance": [],
      "collapsed_sections": []
    },
    "kernelspec": {
      "name": "python3",
      "display_name": "Python 3"
    },
    "language_info": {
      "name": "python"
    }
  },
  "cells": [
    {
      "cell_type": "markdown",
      "metadata": {
        "id": "Lwh9BnpLTIAl"
      },
      "source": [
        "#데이터 : \n",
        "-산불 예측 (Forest Fires Data Set) </br>\n",
        "#데이터 선정 이유 : \n",
        "-산불 피해 규모를 예측하고 대응할 수 있다. </br>\n",
        "-자연을 보호하고 적절한 대응으로 추가 피해 확산을 방지한다. </br>\n",
        "-새로운 column에 영향을 받을 가능성이 적다. (자연의 순리를 따르기 때문에 복잡도가 높지 않을 것으로 예상.)"
      ]
    },
    {
      "cell_type": "code",
      "metadata": {
        "colab": {
          "base_uri": "https://localhost:8080/",
          "height": 220
        },
        "id": "go-CpDjz_dr9",
        "outputId": "af19b3e2-5a9b-4299-8d66-629a5d2bcb32"
      },
      "source": [
        "import pandas as pd\n",
        "from google.colab import drive\n",
        "drive.mount('/content/drive')\n",
        "filename = '/content/drive/MyDrive/forestfires.csv'\n",
        "df = pd.read_csv(filename)\n",
        "df.head()\n",
        "\n",
        "# X - x-axis spatial coordinate within the Montesinho park map: 1 to 9\n",
        "# Y - y-axis spatial coordinate within the Montesinho park map: 2 to 9\n",
        "# month - month of the year: \"jan\" to \"dec\"\n",
        "# day - day of the week: \"mon\" to \"sun\"\n",
        "# FFMC - FFMC index from the FWI system: 18.7 to 96.20    : 땅 속 쓰레기 및 기타 발화가능 물질(미세 연료)의 수분 함량.(높을수록 발화x)(http://aqua.upc.es/anywhere-catalogue-v2/?product=fine-fuel-moisture-code)\n",
        "# DMC - DMC index from the FWI system: 1.1 to 291.3       : 지표층(표층 연료 층) 습도\n",
        "# DC - DC index from the FWI system: 7.9 to 860.6         : 계절적인 가뭄정도\n",
        "# ISI - ISI index from the FWI system: 0.0 to 56.10       : 초기 확산지수((Initial Spread Index) : 기온과 상대습도, 풍속, 강우량을 이용하여 얻은값.\n",
        "# temp - temperature in Celsius degrees: 2.2 to 33.30\n",
        "# RH - relative humidity in %: 15.0 to 100\n",
        "# wind - wind speed in km/h: 0.40 to 9.40\n",
        "# rain - outside rain in mm/m2 : 0.0 to 6.4\n",
        "# area - the burned area of the forest (in ha): 0.00 to 1090.84\n",
        "# (this output variable is very skewed towards 0.0, thus it may make\n",
        "# sense to model with the logarithm transform).\n",
        "# Missing Attribute Values: None"
      ],
      "execution_count": 319,
      "outputs": [
        {
          "output_type": "stream",
          "name": "stdout",
          "text": [
            "Drive already mounted at /content/drive; to attempt to forcibly remount, call drive.mount(\"/content/drive\", force_remount=True).\n"
          ]
        },
        {
          "output_type": "execute_result",
          "data": {
            "text/html": [
              "<div>\n",
              "<style scoped>\n",
              "    .dataframe tbody tr th:only-of-type {\n",
              "        vertical-align: middle;\n",
              "    }\n",
              "\n",
              "    .dataframe tbody tr th {\n",
              "        vertical-align: top;\n",
              "    }\n",
              "\n",
              "    .dataframe thead th {\n",
              "        text-align: right;\n",
              "    }\n",
              "</style>\n",
              "<table border=\"1\" class=\"dataframe\">\n",
              "  <thead>\n",
              "    <tr style=\"text-align: right;\">\n",
              "      <th></th>\n",
              "      <th>X</th>\n",
              "      <th>Y</th>\n",
              "      <th>month</th>\n",
              "      <th>day</th>\n",
              "      <th>FFMC</th>\n",
              "      <th>DMC</th>\n",
              "      <th>DC</th>\n",
              "      <th>ISI</th>\n",
              "      <th>temp</th>\n",
              "      <th>RH</th>\n",
              "      <th>wind</th>\n",
              "      <th>rain</th>\n",
              "      <th>area</th>\n",
              "    </tr>\n",
              "  </thead>\n",
              "  <tbody>\n",
              "    <tr>\n",
              "      <th>0</th>\n",
              "      <td>7</td>\n",
              "      <td>5</td>\n",
              "      <td>mar</td>\n",
              "      <td>fri</td>\n",
              "      <td>86.2</td>\n",
              "      <td>26.2</td>\n",
              "      <td>94.3</td>\n",
              "      <td>5.1</td>\n",
              "      <td>8.2</td>\n",
              "      <td>51</td>\n",
              "      <td>6.7</td>\n",
              "      <td>0.0</td>\n",
              "      <td>0.0</td>\n",
              "    </tr>\n",
              "    <tr>\n",
              "      <th>1</th>\n",
              "      <td>7</td>\n",
              "      <td>4</td>\n",
              "      <td>oct</td>\n",
              "      <td>tue</td>\n",
              "      <td>90.6</td>\n",
              "      <td>35.4</td>\n",
              "      <td>669.1</td>\n",
              "      <td>6.7</td>\n",
              "      <td>18.0</td>\n",
              "      <td>33</td>\n",
              "      <td>0.9</td>\n",
              "      <td>0.0</td>\n",
              "      <td>0.0</td>\n",
              "    </tr>\n",
              "    <tr>\n",
              "      <th>2</th>\n",
              "      <td>7</td>\n",
              "      <td>4</td>\n",
              "      <td>oct</td>\n",
              "      <td>sat</td>\n",
              "      <td>90.6</td>\n",
              "      <td>43.7</td>\n",
              "      <td>686.9</td>\n",
              "      <td>6.7</td>\n",
              "      <td>14.6</td>\n",
              "      <td>33</td>\n",
              "      <td>1.3</td>\n",
              "      <td>0.0</td>\n",
              "      <td>0.0</td>\n",
              "    </tr>\n",
              "    <tr>\n",
              "      <th>3</th>\n",
              "      <td>8</td>\n",
              "      <td>6</td>\n",
              "      <td>mar</td>\n",
              "      <td>fri</td>\n",
              "      <td>91.7</td>\n",
              "      <td>33.3</td>\n",
              "      <td>77.5</td>\n",
              "      <td>9.0</td>\n",
              "      <td>8.3</td>\n",
              "      <td>97</td>\n",
              "      <td>4.0</td>\n",
              "      <td>0.2</td>\n",
              "      <td>0.0</td>\n",
              "    </tr>\n",
              "    <tr>\n",
              "      <th>4</th>\n",
              "      <td>8</td>\n",
              "      <td>6</td>\n",
              "      <td>mar</td>\n",
              "      <td>sun</td>\n",
              "      <td>89.3</td>\n",
              "      <td>51.3</td>\n",
              "      <td>102.2</td>\n",
              "      <td>9.6</td>\n",
              "      <td>11.4</td>\n",
              "      <td>99</td>\n",
              "      <td>1.8</td>\n",
              "      <td>0.0</td>\n",
              "      <td>0.0</td>\n",
              "    </tr>\n",
              "  </tbody>\n",
              "</table>\n",
              "</div>"
            ],
            "text/plain": [
              "   X  Y month  day  FFMC   DMC     DC  ISI  temp  RH  wind  rain  area\n",
              "0  7  5   mar  fri  86.2  26.2   94.3  5.1   8.2  51   6.7   0.0   0.0\n",
              "1  7  4   oct  tue  90.6  35.4  669.1  6.7  18.0  33   0.9   0.0   0.0\n",
              "2  7  4   oct  sat  90.6  43.7  686.9  6.7  14.6  33   1.3   0.0   0.0\n",
              "3  8  6   mar  fri  91.7  33.3   77.5  9.0   8.3  97   4.0   0.2   0.0\n",
              "4  8  6   mar  sun  89.3  51.3  102.2  9.6  11.4  99   1.8   0.0   0.0"
            ]
          },
          "metadata": {},
          "execution_count": 319
        }
      ]
    },
    {
      "cell_type": "code",
      "metadata": {
        "id": "wdxVCcUyTGyu"
      },
      "source": [
        "target = 'area'   ## area : 피해면적(규모), 단위 ha(1헥타르 = 10000제곱미터)\n",
        "\n",
        "# from pandas_profiling import ProfileReport\n",
        "# # !pip install --upgrade pandas\n",
        "\n",
        "# # !pip install pandas-profiling[notebook]\n",
        "# # !pip install -U pandas-profiling      ## update하기.\n",
        "# report = ProfileReport(df)\n",
        "# report    ## categorical 한 columns : Type, Method, Regionname, CouncilArea ; (4개)\n"
      ],
      "execution_count": 320,
      "outputs": []
    },
    {
      "cell_type": "code",
      "metadata": {
        "colab": {
          "base_uri": "https://localhost:8080/",
          "height": 461
        },
        "id": "Vt4L5iUoSgar",
        "outputId": "921bcbce-af9a-48a0-e649-279431792ded"
      },
      "source": [
        "## target분포 확인\n",
        "from matplotlib import pyplot as plt\n",
        "import seaborn as sns\n",
        "\n",
        "f, ax = plt.subplots(figsize = (10, 6)) \n",
        "sns.distplot(df[target])      ## skewed된 값. -> log1p"
      ],
      "execution_count": 321,
      "outputs": [
        {
          "output_type": "stream",
          "name": "stderr",
          "text": [
            "/usr/local/lib/python3.7/dist-packages/seaborn/distributions.py:2557: FutureWarning: `distplot` is a deprecated function and will be removed in a future version. Please adapt your code to use either `displot` (a figure-level function with similar flexibility) or `histplot` (an axes-level function for histograms).\n",
            "  warnings.warn(msg, FutureWarning)\n"
          ]
        },
        {
          "output_type": "execute_result",
          "data": {
            "text/plain": [
              "<matplotlib.axes._subplots.AxesSubplot at 0x7fecfcd8a890>"
            ]
          },
          "metadata": {},
          "execution_count": 321
        },
        {
          "output_type": "display_data",
          "data": {
            "image/png": "[encoded data removed]",
            "text/plain": [
              "<Figure size 720x432 with 1 Axes>"
            ]
          },
          "metadata": {
            "needs_background": "light"
          }
        }
      ]
    },
    {
      "cell_type": "code",
      "metadata": {
        "colab": {
          "base_uri": "https://localhost:8080/",
          "height": 297
        },
        "id": "zlZxhrAxS8pb",
        "outputId": "1070ca2a-afbe-46a9-c666-ef1471f3f871"
      },
      "source": [
        "import numpy as np\n",
        "\n",
        "target_log = np.log1p(df[target])   ## log1p= ln(1 + x)  ;  np.log(df[target]+1)\n",
        "\n",
        "df['area_log'] = target_log\n",
        "sns.histplot(target_log);\n",
        "plt.axvline(df['area_log'].median(), color='red');    ## 변환해도 target이 skewed된 분포이기 때문에, 정규분포에 가깝도록 median을 기준라인으로 잡겠습니다.\n",
        "plt.axvline(df['area_log'].mean(), color='blue')\n",
        "print(df['area_log'].median())"
      ],
      "execution_count": 322,
      "outputs": [
        {
          "output_type": "stream",
          "name": "stdout",
          "text": [
            "0.41871033485818504\n"
          ]
        },
        {
          "output_type": "display_data",
          "data": {
            "image/png": "[encoded data removed]",
            "text/plain": [
              "<Figure size 432x288 with 1 Axes>"
            ]
          },
          "metadata": {
            "needs_background": "light"
          }
        }
      ]
    },
    {
      "cell_type": "code",
      "metadata": {
        "id": "IYZmEXyeKwmN"
      },
      "source": [
        "target = 'area_log'\n",
        "df = df.drop(columns=['area'])    ## target의 최대 최소 분포 차가 너무 커서 log값을 씌워 차이를 완화해줌."
      ],
      "execution_count": 323,
      "outputs": []
    },
    {
      "cell_type": "code",
      "metadata": {
        "colab": {
          "base_uri": "https://localhost:8080/",
          "height": 1000
        },
        "id": "IdIQjJ5OUcwk",
        "outputId": "63451011-e1ac-4b7c-9236-7c7cb20f62b7"
      },
      "source": [
        "## target과 feature간 상관관계 확인.\n",
        "\n",
        "df.corr().iloc[:,-1].sort_values(ascending = False)\n",
        "\n",
        "for i in df.columns:\n",
        "  f, ax = plt.subplots(figsize=(2,2))\n",
        "  plt.ylabel(i)\n",
        "  ax.scatter(df['area_log'], df[i])"
      ],
      "execution_count": 324,
      "outputs": [
        {
          "output_type": "display_data",
          "data": {
            "image/png": "[encoded data removed]",
            "text/plain": [
              "<Figure size 144x144 with 1 Axes>"
            ]
          },
          "metadata": {
            "needs_background": "light"
          }
        },
        {
          "output_type": "display_data",
          "data": {
            "image/png": "[encoded data removed]",
            "text/plain": [
              "<Figure size 144x144 with 1 Axes>"
            ]
          },
          "metadata": {
            "needs_background": "light"
          }
        },
        {
          "output_type": "display_data",
          "data": {
            "image/png": "[encoded data removed]",
            "text/plain": [
              "<Figure size 144x144 with 1 Axes>"
            ]
          },
          "metadata": {
            "needs_background": "light"
          }
        },
        {
          "output_type": "display_data",
          "data": {
            "image/png": "[encoded data removed]",
            "text/plain": [
              "<Figure size 144x144 with 1 Axes>"
            ]
          },
          "metadata": {
            "needs_background": "light"
          }
        },
        {
          "output_type": "display_data",
          "data": {
            "image/png": "[encoded data removed]",
            "text/plain": [
              "<Figure size 144x144 with 1 Axes>"
            ]
          },
          "metadata": {
            "needs_background": "light"
          }
        },
        {
          "output_type": "display_data",
          "data": {
            "image/png": "[encoded data removed]",
            "text/plain": [
              "<Figure size 144x144 with 1 Axes>"
            ]
          },
          "metadata": {
            "needs_background": "light"
          }
        },
        {
          "output_type": "display_data",
          "data": {
            "image/png": "[encoded data removed]",
            "text/plain": [
              "<Figure size 144x144 with 1 Axes>"
            ]
          },
          "metadata": {
            "needs_background": "light"
          }
        },
        {
          "output_type": "display_data",
          "data": {
            "image/png": "[encoded data removed]",
            "text/plain": [
              "<Figure size 144x144 with 1 Axes>"
            ]
          },
          "metadata": {
            "needs_background": "light"
          }
        },
        {
          "output_type": "display_data",
          "data": {
            "image/png": "[encoded data removed]",
            "text/plain": [
              "<Figure size 144x144 with 1 Axes>"
            ]
          },
          "metadata": {
            "needs_background": "light"
          }
        },
        {
          "output_type": "display_data",
          "data": {
            "image/png": "[encoded data removed]",
            "text/plain": [
              "<Figure size 144x144 with 1 Axes>"
            ]
          },
          "metadata": {
            "needs_background": "light"
          }
        },
        {
          "output_type": "display_data",
          "data": {
            "image/png": "[encoded data removed]",
            "text/plain": [
              "<Figure size 144x144 with 1 Axes>"
            ]
          },
          "metadata": {
            "needs_background": "light"
          }
        },
        {
          "output_type": "display_data",
          "data": {
            "image/png": "[encoded data removed]",
            "text/plain": [
              "<Figure size 144x144 with 1 Axes>"
            ]
          },
          "metadata": {
            "needs_background": "light"
          }
        },
        {
          "output_type": "display_data",
          "data": {
            "image/png": "[encoded data removed]",
            "text/plain": [
              "<Figure size 144x144 with 1 Axes>"
            ]
          },
          "metadata": {
            "needs_background": "light"
          }
        }
      ]
    },
    {
      "cell_type": "code",
      "metadata": {
        "id": "TtOrpxfADuoT"
      },
      "source": [
        "# sns.set(style='whitegrid', context='notebook')\n",
        "# sns.pairplot(df.columns, height=2)"
      ],
      "execution_count": 325,
      "outputs": []
    },
    {
      "cell_type": "code",
      "metadata": {
        "colab": {
          "base_uri": "https://localhost:8080/"
        },
        "id": "_hzverPRRs77",
        "outputId": "0d530091-6dc5-426d-fb2d-b6cfea0d7823"
      },
      "source": [
        "## 각 column data 확인.\n",
        "for i in df.columns:\n",
        "  print(i, df[i].unique())"
      ],
      "execution_count": 326,
      "outputs": [
        {
          "output_type": "stream",
          "name": "stdout",
          "text": [
            "X [7 8 6 5 4 2 9 1 3]\n",
            "Y [5 4 6 3 2 9 8]\n",
            "month ['mar' 'oct' 'aug' 'sep' 'apr' 'jun' 'jul' 'feb' 'jan' 'dec' 'may' 'nov']\n",
            "day ['fri' 'tue' 'sat' 'sun' 'mon' 'wed' 'thu']\n",
            "FFMC [86.2 90.6 91.7 89.3 92.3 91.5 91.  92.5 92.8 63.5 90.9 92.9 93.3 84.9\n",
            " 89.2 86.3 91.8 94.3 90.2 93.5 91.4 92.4 93.4 88.6 90.3 90.  88.1 79.5\n",
            " 94.8 90.1 94.2 87.2 87.6 92.1 92.6 84.  86.6 93.  91.1 91.2 88.8 84.2\n",
            " 89.7 83.9 69.  82.1 85.9 84.4 68.2 93.7 85.8 95.5 95.2 96.  85.6 81.5\n",
            " 86.8 93.9 90.8 90.7 88.3 92.2 81.9 88.  83.  93.1 91.9 91.6 87.5 93.6\n",
            " 84.6 85.4 84.7 86.9 85.2 90.4 53.4 85.1 89.6 50.4 88.2 92.  18.7 90.5\n",
            " 84.1 85.  87.9 94.6 87.1 92.7 88.9 89.4 94.  75.1 91.3 93.2 94.9 95.\n",
            " 95.1 95.8 95.9 96.2 96.1 94.5 81.6 94.4]\n",
            "DMC [ 26.2  35.4  43.7  33.3  51.3  85.3  88.9 145.4 129.5  88.   73.2  70.8\n",
            " 126.5 133.3 141.2  35.8  32.8  27.9  27.4  78.5  96.3 110.9 139.4 142.4\n",
            " 117.9 149.3  85.1  91.8  69.7  75.6  80.7  41.5  25.7  60.6  96.9 108.3\n",
            "  82.9  62.3  23.9  52.2 137.   99.6 111.2 114.3  46.5   9.3  13.2  75.3\n",
            " 103.2  48.3 147.3   6.8 108.  121.2  90.    8.    2.4 121.1   3.7  19.5\n",
            "  30.7  39.7 124.1  73.4  37.9  21.5  80.9  99.9 131.7  56.4  68.6  51.2\n",
            "  50.1  18.2 127.1  90.4   9.1  15.6  48.5 135.7  41.9  44.   37.6   8.7\n",
            " 150.3  81.8   3.   17.2  23.3 122.3 175.1  91.6 157.3 109.2 138.1  77.\n",
            " 117.2 170.9  97.9 112.4 141.1 167.6 102.2 152.6  27.2  27.8  26.4  25.4\n",
            "  26.7  27.5   6.6   4.9 169.7 183.1 104.2 100.2 180.4  88.8  89.5 147.8\n",
            "  71.   93.3  94.1  28.   84.1 105.8  46.2 115.4 134.7  96.2 119.  136.9\n",
            "  53.3 102.3 124.4  87.7 108.4 111.7 130.1  99.  122.   55.2 132.3  94.3\n",
            " 276.3 133.6 203.2 222.4 290.  207.  231.1  18.9   1.1 101.3 194.1 217.7\n",
            " 248.4 273.8 181.3  96.7 227.    9.5  91.3  15.    4.6   9.   49.5  88.2\n",
            "  84.8 212.1 291.3   8.2   7.3   3.2  92.1 235.1 164.1  17.3 191.4 263.1\n",
            " 287.2 178.  269.8  84.7 253.6  24.9  47.9 284.9 196.8 238.2 266.2 160.\n",
            "   4.4   3.6  15.1  18.5  20.6  14.6  61.1 103.8 121.7 103.9 114.4 130.3\n",
            " 135.5 141.3 152.  158.  164.  175.5 181.1 163.2 166.9  56.7 146. ]\n",
            "DC [ 94.3 669.1 686.9  77.5 102.2 488.  495.6 608.2 692.6 698.6 713.  665.3\n",
            " 686.5 699.6 713.9  80.8 664.2  70.8  97.1 724.3 200.  537.4 594.2 601.4\n",
            " 668.  721.4 728.6 692.3 709.9 706.8 718.3 730.2 682.6  67.6 366.7 624.2\n",
            " 647.1 735.7 442.9  64.7 103.8 706.4 631.2 654.1 661.3 691.8  34.   43.\n",
            " 466.6 638.8  97.8 614.5  26.6 529.8 561.6 704.4  30.2  15.5 674.4   9.3\n",
            "  57.3  74.3  86.6 680.7 671.9 673.8  87.2 685.2 313.4 513.3 296.3 578.8\n",
            " 433.3 355.2 424.1 100.4  55.  570.5 609.6  55.2  48.3 696.1 586.7  89.4\n",
            "  92.4  83.7  32.1 309.9 480.8   7.9  43.5  85.3 589.9 700.7 503.6 666.7\n",
            " 565.5 621.7 694.8 581.1 542.  573.  629.1 684.4 550.3 607.1 658.2 353.5\n",
            " 354.6 352.  349.7 352.6  18.7  15.8 411.8 437.7 474.9 466.3 430.8 440.9\n",
            " 290.8 377.2 233.8 298.1 232.1 113.8 714.3 758.1 706.6 777.1 817.5 739.4\n",
            " 783.5 822.8 726.9 751.5 795.3 721.1 764.  770.3 807.1 745.3 789.7 732.3\n",
            " 812.1 744.4 825.1 520.5 664.5 855.3 672.6 715.1  30.6 171.4 458.8 643.\n",
            " 690.  753.8 819.1 613.  750.5 706.7  58.3 738.1  25.6  46.7  56.9 297.7\n",
            " 731.7 725.1 680.9 860.6 450.2  52.8  43.6 442.1 723.1 575.8  28.3 635.9\n",
            " 795.9 849.3 605.3 811.2 376.6 768.4  41.6 368.3 100.7 844.  649.9 730.6\n",
            " 803.3 567.2  16.2  15.3  36.9  41.1  73.7 229.  252.6 316.7 350.2 395.\n",
            " 423.4 431.6 560.  587.1 596.3 605.8 624.1 633.6 661.8 671.2 689.1 752.6\n",
            " 665.6 614.7 106.7]\n",
            "ISI [ 5.1  6.7  9.   9.6 14.7  8.5 10.7  7.   7.1 22.6  0.8  9.2 13.9  7.8\n",
            "  3.   6.3 56.1  6.2 20.3 10.6 12.2  8.1 15.9  5.8  8.7  3.8  1.5  8.9\n",
            " 17.  11.   4.1  5.   8.8  2.1  5.3  7.7 12.5  4.8  2.6  0.7  8.6  2.9\n",
            "  2.8  7.5  3.2  5.2 17.9  3.9 13.2 10.4  7.2 16.5  6.6  2.7 11.1 15.1\n",
            "  7.9  5.5  6.8 11.9  3.5  2.3 12.9 13.8 13.5  8.  13.7 14.4 13.  14.6\n",
            " 22.7 14.3  2.   3.4 12.3  6.4 12.7  0.4  5.7  9.9  5.4  8.4  9.5  6.5\n",
            " 10.2 11.6  7.4  8.2  0.  18.   7.6 11.4 12.   2.2 14.   8.3  3.7  4.\n",
            " 12.1  3.3  9.8 10.1  5.6  9.7 16.8 16.3 16.7  1.9  1.8  7.3  4.7  9.4\n",
            " 10.8 14.1 21.3 17.7 11.3 20.   1.1]\n",
            "temp [ 8.2 18.  14.6  8.3 11.4 22.2 24.1  8.  13.1 22.8 17.8 19.3 17.  21.3\n",
            " 26.4 22.9 15.1 16.7 15.9  9.3 18.3 19.1 21.  19.5 23.7 16.3 19.  19.4\n",
            " 30.2 25.4 11.2 20.6 17.7 21.2 18.2 21.7 11.3 14.1 23.3 18.4 16.6 19.6\n",
            " 12.9 25.9 14.7 23.  11.8 11.  20.8 21.5 20.4 17.6 27.7 13.8 13.9 12.3\n",
            " 11.5  5.5 18.8 23.1 18.6 17.2 15.8 15.6 17.3 27.6  6.7 15.7 21.6 17.9\n",
            " 20.2 22.4 25.3 17.4 23.4 12.7 11.6 19.8 14.4 20.1  5.3 21.4 20.3 13.7\n",
            " 18.9 15.5 15.2 10.6 10.3 17.1 22.5  9.  15.4 14.  14.9 21.9 23.8 27.4\n",
            " 13.2 24.2 23.2 24.8 24.6 29.6 16.4 28.6 20.5 16.1 20.7 14.2  5.8 19.2\n",
            " 23.9 12.4 16.8 13.3 11.7 24.3 23.5 22.6  8.8 22.1  5.1 16.9 16.2 13.4\n",
            " 28.3 27.8 18.7 25.1 26.8 25.7 28.7 24.  22.3 21.8  4.8  4.6  2.2  4.2\n",
            "  7.5 12.6 26.9 14.3 16.  24.9 12.2 19.7 18.5 18.1  9.8 22.7 10.1 12.8\n",
            " 21.1 10.4  8.7  5.2 28.2 20.9 28.  25.  27.9 19.9 27.5 26.3 26.2 30.8\n",
            " 29.3 23.6 25.5 10.9 14.8  8.9 10.5 14.5 10.2 24.5 27.2 26.1 31.  33.1\n",
            " 30.6 32.4 32.6 32.3 33.3 27.3 29.2 28.9 26.7 25.6]\n",
            "RH [ 51  33  97  99  29  27  86  63  40  38  72  42  21  44  47  35  43  32\n",
            "  60  34  48  24  39  78  37  62  54  74  70  36  46  17  45  50  59  31\n",
            "  26  25  30  79  66  19  15  22  64  87  52  56  18  49  58  53  28  41\n",
            "  67  68  96  73  57  75  20  84  55  61  90  94  77 100  71  80  88  65\n",
            "  76  82  69]\n",
            "wind [6.7 0.9 1.3 4.  1.8 5.4 3.1 2.2 7.2 4.5 4.9 2.7 5.8 3.6 7.6 6.3 8.9 8.5\n",
            " 9.4 0.4 8. ]\n",
            "rain [0.  0.2 1.  6.4 0.8 0.4 1.4]\n",
            "area_log [0.         0.3074847  0.35767444 0.3852624  0.43825493 0.47623418\n",
            " 0.53649337 0.57097955 0.64185389 0.66782937 0.67294447 0.72754861\n",
            " 0.75141609 0.78390154 0.85866162 0.88789126 0.90016135 0.94000726\n",
            " 0.95935022 0.96698385 0.97077892 0.98954119 1.01160091 1.06471074\n",
            " 1.07840958 1.08180517 1.10194008 1.1442228  1.19088756 1.25561604\n",
            " 1.26129787 1.2669476  1.2725656  1.30562646 1.31908561 1.403643\n",
            " 1.5040774  1.71018782 1.72455072 1.73871025 1.77155676 1.82937633\n",
            " 1.84530024 1.86252854 1.99877364 2.05796251 2.074429   2.08442908\n",
            " 2.1029139  2.11625551 2.12823171 2.22354189 2.23108909 2.2700619\n",
            " 2.27315628 2.34276688 2.39880395 2.3997118  2.47905624 2.48989419\n",
            " 2.50470928 2.51122396 2.52812577 2.57261223 2.6426224  2.68784749\n",
            " 2.70738331 2.74534599 2.80032548 2.90142159 3.00716665 3.19499288\n",
            " 3.22803376 3.29583687 3.30064013 3.34462703 3.38979934 3.41707073\n",
            " 3.44425687 3.48798651 3.49225611 3.49862653 3.6076694  3.63363098\n",
            " 3.63811234 3.65609796 3.90298226 3.91939576 4.08260931 4.17592455\n",
            " 4.28082413 4.49412689 4.56622144 4.64813389 4.66964621 5.04908648\n",
            " 5.28563731 5.30797062 5.36541511 6.99561963 2.40964417 1.35325451\n",
            " 0.56531381 0.0861777  0.55961579 1.24415459 0.51879379 0.21511138\n",
            " 0.19062036 0.9242589  2.4283363  2.19944433 0.86710049 2.28747146\n",
            " 1.45861502 1.65822808 2.02022218 0.58221562 0.15700375 1.68639895\n",
            " 0.41871033 2.32922702 1.40854497 2.30058309 2.50061594 1.8531681\n",
            " 2.93651291 2.46214966 3.13679771 2.37676449 3.24921102 0.74193734\n",
            " 3.22843004 2.19722458 1.29198368 4.4710672  2.02419307 1.50851199\n",
            " 0.3435897  1.82131827 2.72719902 0.9477894  1.56444055 1.68824909\n",
            " 3.56558124 2.10535292 0.69813472 1.1568812  1.69009582 1.46556754\n",
            " 2.0255132  2.81180944 2.50307395 1.141033   4.04375278 2.13771045\n",
            " 0.90421815 1.59533899 1.96009478 1.92132467 3.37382618 1.54968791\n",
            " 2.11745961 1.10856262 1.00063188 1.94161522 2.64333389 0.81536481\n",
            " 2.2104698  0.73716407 1.59736533 1.36863943 1.89461685 3.04594999\n",
            " 2.61300665 2.9601051  3.69759139 5.16837951 2.16676537 2.8524391\n",
            " 1.92570744 3.78123072 2.57870053 2.83321334 3.24220165 3.39249294\n",
            " 2.39425228 3.43977686 4.27332722 3.96613233 1.53471437 1.53255687\n",
            " 2.21484618 1.78339122 1.95160817 1.59938758 2.17475172 1.72633166\n",
            " 6.61643995 2.08193842 1.23547147 1.39871688 5.22982437 1.98787435\n",
            " 0.54232429 1.78507048 1.20896035 1.43508453 1.99605993 2.79361609\n",
            " 0.43178242 2.00552586 0.28517894 0.80200159 1.47017585 2.37117788\n",
            " 4.42783617 1.4632554  1.85473427 2.05923883 1.43031125 1.87946505\n",
            " 2.02946317 4.12922896 3.67579421 4.26717679 2.40514168 1.43270073\n",
            " 1.01523068 2.12345843 1.16627094 5.63310962 1.32175584 0.82855182\n",
            " 3.3116373  1.12167756 1.09861229 2.85647021 3.8649314  3.79143604\n",
            " 2.26072089 1.327075   2.75238601 3.72665682 2.46979301 3.92375393\n",
            " 1.91692261 1.15373159 2.00687085 4.01259206 2.49815188]\n"
          ]
        }
      ]
    },
    {
      "cell_type": "code",
      "metadata": {
        "id": "HTRJMfwQXVad"
      },
      "source": [
        "## train, val, test split\n",
        "from sklearn.model_selection import train_test_split\n",
        "\n",
        "train, test = train_test_split(df, train_size=0.80, test_size=0.20, random_state=2)\n",
        "train, val = train_test_split(train, train_size=0.80, test_size=0.20, random_state=2)"
      ],
      "execution_count": 327,
      "outputs": []
    },
    {
      "cell_type": "code",
      "metadata": {
        "id": "xCtFgYoHPLxq"
      },
      "source": [
        "# 특성공학\n",
        "def engine(df):\n",
        "  # df = df.drop(columns=['month','day'], axis=1)\n",
        "  return df\n",
        "\n",
        "train = engine(train)\n",
        "val = engine(val)\n",
        "test = engine(test)"
      ],
      "execution_count": 328,
      "outputs": []
    },
    {
      "cell_type": "code",
      "metadata": {
        "colab": {
          "base_uri": "https://localhost:8080/"
        },
        "id": "5BjK1KoCI-OR",
        "outputId": "7750becd-99b1-4d7f-e007-d45e86d21f4d"
      },
      "source": [
        "## X, y split\n",
        "\n",
        "# feature = train.drop(columns=[target]).columns     ##target = area_log\n",
        "feature = 'temp'  ##ISI, temp, wind\n",
        "\n",
        "X_train = train[feature]\n",
        "y_train = train[target]\n",
        "X_val = val[feature]\n",
        "y_val = val[target]\n",
        "X_test = test[feature]\n",
        "y_test = test[target]\n",
        "\n",
        "print(len(df), len(X_train), len(X_val), len(X_test))"
      ],
      "execution_count": 329,
      "outputs": [
        {
          "output_type": "stream",
          "name": "stdout",
          "text": [
            "517 330 83 104\n"
          ]
        }
      ]
    },
    {
      "cell_type": "code",
      "metadata": {
        "id": "3h8lz7MtXT_X",
        "colab": {
          "base_uri": "https://localhost:8080/"
        },
        "outputId": "508e464e-3c18-4721-8191-f58485f0db63"
      },
      "source": [
        "## modeling\n",
        "\n",
        "# !pip install category_encoders\n",
        "from category_encoders import OrdinalEncoder\n",
        "from sklearn.ensemble import RandomForestRegressor\n",
        "from sklearn.impute import SimpleImputer \n",
        "from sklearn.pipeline import make_pipeline\n",
        "\n",
        "pipe = make_pipeline(\n",
        "    OrdinalEncoder(),\n",
        "    SimpleImputer(), \n",
        "    RandomForestRegressor()\n",
        ")\n",
        "\n",
        "pipe.fit(X_train, y_train)\n",
        "print('검증 정확도: ', pipe.score(X_val, y_val))"
      ],
      "execution_count": 330,
      "outputs": [
        {
          "output_type": "stream",
          "name": "stdout",
          "text": [
            "검증 정확도:  0.03435215390385671\n"
          ]
        }
      ]
    }
  ]
}