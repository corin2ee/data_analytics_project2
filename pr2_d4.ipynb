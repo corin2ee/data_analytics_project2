{
  "nbformat": 4,
  "nbformat_minor": 0,
  "metadata": {
    "colab": {
      "name": "pr2-d4",
      "provenance": [],
      "collapsed_sections": []
    },
    "kernelspec": {
      "name": "python3",
      "display_name": "Python 3"
    },
    "language_info": {
      "name": "python"
    }
  },
  "cells": [
    {
      "cell_type": "markdown",
      "metadata": {
        "id": "Lwh9BnpLTIAl"
      },
      "source": [
        "#데이터 : \n",
        "-공유자전거 수요 예측 (bike sharing demand) </br>\n",
        "#데이터 선정 이유 : \n",
        "-소비자의 수요에 맞춰 자원을 효과적으로 활용할 수 있다 . </br>\n",
        "-kaggle competition 자료이므로 모델의 성능을 객관적으로 평가할 수 있다. </br>\n",
        "-카카오바이크와 같이 실생활과 밀접해 있다."
      ]
    },
    {
      "cell_type": "code",
      "metadata": {
        "colab": {
          "base_uri": "https://localhost:8080/",
          "height": 240
        },
        "id": "go-CpDjz_dr9",
        "outputId": "480b9f93-b94b-4ea7-93d2-29b4aea77df1"
      },
      "source": [
        "import pandas as pd\n",
        "import numpy as np\n",
        "from google.colab import drive\n",
        "drive.mount('/content/drive')\n",
        "filename = '/content/drive/MyDrive/bike-sharing-demand-meta/train.csv'\n",
        "df = pd.read_csv(filename)\n",
        "print(df.shape)\n",
        "df.head()\n",
        "\n",
        "## datetime : 2011-01-01 00:00:00 ~ 2012-12-19 23:00:00\n",
        "## season : 1~4 => 1: spring, 2: summer, 3:fall, 4: winter\n",
        "## weather : 1~4 => Clear, Few clouds, Partly cloudy, Partly cloudy"
      ],
      "execution_count": null,
      "outputs": [
        {
          "output_type": "stream",
          "name": "stdout",
          "text": [
            "Drive already mounted at /content/drive; to attempt to forcibly remount, call drive.mount(\"/content/drive\", force_remount=True).\n",
            "(10886, 12)\n"
          ]
        },
        {
          "output_type": "execute_result",
          "data": {
            "text/html": [
              "<div>\n",
              "<style scoped>\n",
              "    .dataframe tbody tr th:only-of-type {\n",
              "        vertical-align: middle;\n",
              "    }\n",
              "\n",
              "    .dataframe tbody tr th {\n",
              "        vertical-align: top;\n",
              "    }\n",
              "\n",
              "    .dataframe thead th {\n",
              "        text-align: right;\n",
              "    }\n",
              "</style>\n",
              "<table border=\"1\" class=\"dataframe\">\n",
              "  <thead>\n",
              "    <tr style=\"text-align: right;\">\n",
              "      <th></th>\n",
              "      <th>datetime</th>\n",
              "      <th>season</th>\n",
              "      <th>holiday</th>\n",
              "      <th>workingday</th>\n",
              "      <th>weather</th>\n",
              "      <th>temp</th>\n",
              "      <th>atemp</th>\n",
              "      <th>humidity</th>\n",
              "      <th>windspeed</th>\n",
              "      <th>casual</th>\n",
              "      <th>registered</th>\n",
              "      <th>count</th>\n",
              "    </tr>\n",
              "  </thead>\n",
              "  <tbody>\n",
              "    <tr>\n",
              "      <th>0</th>\n",
              "      <td>2011-01-01 00:00:00</td>\n",
              "      <td>1</td>\n",
              "      <td>0</td>\n",
              "      <td>0</td>\n",
              "      <td>1</td>\n",
              "      <td>9.84</td>\n",
              "      <td>14.395</td>\n",
              "      <td>81</td>\n",
              "      <td>0.0</td>\n",
              "      <td>3</td>\n",
              "      <td>13</td>\n",
              "      <td>16</td>\n",
              "    </tr>\n",
              "    <tr>\n",
              "      <th>1</th>\n",
              "      <td>2011-01-01 01:00:00</td>\n",
              "      <td>1</td>\n",
              "      <td>0</td>\n",
              "      <td>0</td>\n",
              "      <td>1</td>\n",
              "      <td>9.02</td>\n",
              "      <td>13.635</td>\n",
              "      <td>80</td>\n",
              "      <td>0.0</td>\n",
              "      <td>8</td>\n",
              "      <td>32</td>\n",
              "      <td>40</td>\n",
              "    </tr>\n",
              "    <tr>\n",
              "      <th>2</th>\n",
              "      <td>2011-01-01 02:00:00</td>\n",
              "      <td>1</td>\n",
              "      <td>0</td>\n",
              "      <td>0</td>\n",
              "      <td>1</td>\n",
              "      <td>9.02</td>\n",
              "      <td>13.635</td>\n",
              "      <td>80</td>\n",
              "      <td>0.0</td>\n",
              "      <td>5</td>\n",
              "      <td>27</td>\n",
              "      <td>32</td>\n",
              "    </tr>\n",
              "    <tr>\n",
              "      <th>3</th>\n",
              "      <td>2011-01-01 03:00:00</td>\n",
              "      <td>1</td>\n",
              "      <td>0</td>\n",
              "      <td>0</td>\n",
              "      <td>1</td>\n",
              "      <td>9.84</td>\n",
              "      <td>14.395</td>\n",
              "      <td>75</td>\n",
              "      <td>0.0</td>\n",
              "      <td>3</td>\n",
              "      <td>10</td>\n",
              "      <td>13</td>\n",
              "    </tr>\n",
              "    <tr>\n",
              "      <th>4</th>\n",
              "      <td>2011-01-01 04:00:00</td>\n",
              "      <td>1</td>\n",
              "      <td>0</td>\n",
              "      <td>0</td>\n",
              "      <td>1</td>\n",
              "      <td>9.84</td>\n",
              "      <td>14.395</td>\n",
              "      <td>75</td>\n",
              "      <td>0.0</td>\n",
              "      <td>0</td>\n",
              "      <td>1</td>\n",
              "      <td>1</td>\n",
              "    </tr>\n",
              "  </tbody>\n",
              "</table>\n",
              "</div>"
            ],
            "text/plain": [
              "              datetime  season  holiday  ...  casual  registered  count\n",
              "0  2011-01-01 00:00:00       1        0  ...       3          13     16\n",
              "1  2011-01-01 01:00:00       1        0  ...       8          32     40\n",
              "2  2011-01-01 02:00:00       1        0  ...       5          27     32\n",
              "3  2011-01-01 03:00:00       1        0  ...       3          10     13\n",
              "4  2011-01-01 04:00:00       1        0  ...       0           1      1\n",
              "\n",
              "[5 rows x 12 columns]"
            ]
          },
          "metadata": {},
          "execution_count": 15
        }
      ]
    },
    {
      "cell_type": "code",
      "metadata": {
        "colab": {
          "base_uri": "https://localhost:8080/",
          "height": 80
        },
        "id": "HneQDz71C5Xy",
        "outputId": "03d6f9f2-2b73-47b3-9af6-630ca76a83f8"
      },
      "source": [
        "mask = df['datetime']=='2011-03-19 09:00:00'    ##19일까지밖에없네\n",
        "df[mask]"
      ],
      "execution_count": null,
      "outputs": [
        {
          "output_type": "execute_result",
          "data": {
            "text/html": [
              "<div>\n",
              "<style scoped>\n",
              "    .dataframe tbody tr th:only-of-type {\n",
              "        vertical-align: middle;\n",
              "    }\n",
              "\n",
              "    .dataframe tbody tr th {\n",
              "        vertical-align: top;\n",
              "    }\n",
              "\n",
              "    .dataframe thead th {\n",
              "        text-align: right;\n",
              "    }\n",
              "</style>\n",
              "<table border=\"1\" class=\"dataframe\">\n",
              "  <thead>\n",
              "    <tr style=\"text-align: right;\">\n",
              "      <th></th>\n",
              "      <th>datetime</th>\n",
              "      <th>season</th>\n",
              "      <th>holiday</th>\n",
              "      <th>workingday</th>\n",
              "      <th>weather</th>\n",
              "      <th>temp</th>\n",
              "      <th>atemp</th>\n",
              "      <th>humidity</th>\n",
              "      <th>windspeed</th>\n",
              "      <th>casual</th>\n",
              "      <th>registered</th>\n",
              "      <th>count</th>\n",
              "    </tr>\n",
              "  </thead>\n",
              "  <tbody>\n",
              "    <tr>\n",
              "      <th>1308</th>\n",
              "      <td>2011-03-19 09:00:00</td>\n",
              "      <td>1</td>\n",
              "      <td>0</td>\n",
              "      <td>0</td>\n",
              "      <td>1</td>\n",
              "      <td>17.22</td>\n",
              "      <td>21.21</td>\n",
              "      <td>44</td>\n",
              "      <td>31.0009</td>\n",
              "      <td>35</td>\n",
              "      <td>41</td>\n",
              "      <td>76</td>\n",
              "    </tr>\n",
              "  </tbody>\n",
              "</table>\n",
              "</div>"
            ],
            "text/plain": [
              "                 datetime  season  holiday  ...  casual  registered  count\n",
              "1308  2011-03-19 09:00:00       1        0  ...      35          41     76\n",
              "\n",
              "[1 rows x 12 columns]"
            ]
          },
          "metadata": {},
          "execution_count": 16
        }
      ]
    },
    {
      "cell_type": "code",
      "metadata": {
        "id": "wdxVCcUyTGyu",
        "colab": {
          "base_uri": "https://localhost:8080/"
        },
        "outputId": "3ce388ac-1593-4efd-8703-79ce65e4e97b"
      },
      "source": [
        "target = 'count'\n",
        "\n",
        "## 결측치 확인. : (없음.)\n",
        "[(x, df[x].isnull().sum()) for x in df.columns if df[x].isnull().any()]\n",
        "\n",
        "# from pandas_profiling import ProfileReport\n",
        "# # !pip install --upgrade pandas\n",
        "\n",
        "# # !pip install pandas-profiling[notebook]\n",
        "# # !pip install -U pandas-profiling      ## update하기.\n",
        "# report = ProfileReport(df)\n",
        "# report    ## categorical 한 columns : Type, Method, Regionname, CouncilArea ; (4개)"
      ],
      "execution_count": null,
      "outputs": [
        {
          "output_type": "execute_result",
          "data": {
            "text/plain": [
              "[]"
            ]
          },
          "metadata": {},
          "execution_count": 17
        }
      ]
    },
    {
      "cell_type": "code",
      "metadata": {
        "colab": {
          "base_uri": "https://localhost:8080/",
          "height": 462
        },
        "id": "Vt4L5iUoSgar",
        "outputId": "b2630396-f760-4927-92f3-fb179c4a70f0"
      },
      "source": [
        "## target분포 확인\n",
        "from matplotlib import pyplot as plt\n",
        "import seaborn as sns\n",
        "\n",
        "f, ax = plt.subplots(figsize = (10, 6)) \n",
        "sns.distplot(df[target])\n",
        "plt.axvline(df[target].median(), color='red');\n",
        "plt.axvline(df[target].mean(), color='blue')\n",
        "print(df[target].median())"
      ],
      "execution_count": null,
      "outputs": [
        {
          "output_type": "stream",
          "name": "stderr",
          "text": [
            "/usr/local/lib/python3.7/dist-packages/seaborn/distributions.py:2557: FutureWarning: `distplot` is a deprecated function and will be removed in a future version. Please adapt your code to use either `displot` (a figure-level function with similar flexibility) or `histplot` (an axes-level function for histograms).\n",
            "  warnings.warn(msg, FutureWarning)\n"
          ]
        },
        {
          "output_type": "stream",
          "name": "stdout",
          "text": [
            "145.0\n"
          ]
        },
        {
          "output_type": "display_data",
          "data": {
            "image/png": "[encoded data removed]",
            "text/plain": [
              "<Figure size 720x432 with 1 Axes>"
            ]
          },
          "metadata": {
            "needs_background": "light"
          }
        }
      ]
    },
    {
      "cell_type": "code",
      "metadata": {
        "id": "Nr3iWcGLIcqn"
      },
      "source": [
        "# np.percentile 사용해 이상치 제거\n",
        "df = df[(df[target] >= np.percentile(df[target], 0.05)) & \n",
        "        (df[target] <= np.percentile(df[target], 99.5))]"
      ],
      "execution_count": null,
      "outputs": []
    },
    {
      "cell_type": "code",
      "metadata": {
        "id": "IdIQjJ5OUcwk"
      },
      "source": [
        "# ## target과 feature간 상관관계 확인.\n",
        "\n",
        "# df.corr().iloc[:,-1].sort_values(ascending = False)\n",
        "\n",
        "# for i in df.columns:\n",
        "#   f, ax = plt.subplots(figsize=(4,4))\n",
        "#   plt.xlabel(i)\n",
        "#   ax.scatter(df[i], df[target])\n",
        "\n",
        "# for i in df.columns:\n",
        "#   plt.scatter(df[i], df[target])"
      ],
      "execution_count": null,
      "outputs": []
    },
    {
      "cell_type": "code",
      "metadata": {
        "id": "TtOrpxfADuoT"
      },
      "source": [
        "# sns.set(style='whitegrid', context='notebook')\n",
        "# sns.pairplot(df.columns, height=2)"
      ],
      "execution_count": null,
      "outputs": []
    },
    {
      "cell_type": "code",
      "metadata": {
        "colab": {
          "base_uri": "https://localhost:8080/"
        },
        "id": "_hzverPRRs77",
        "outputId": "12de0d47-a277-4e75-9fd2-9a2c1e8610d1"
      },
      "source": [
        "## 각 column data 확인.\n",
        "col = pd.Series(df.columns, index=df.columns)\n",
        "dlte=['count','casual','registered']     ## target 빼고 보기.\n",
        "col = col.drop(labels=dlte)\n",
        "\n",
        "for i in col:\n",
        "  print(i, df[i].unique())"
      ],
      "execution_count": null,
      "outputs": [
        {
          "output_type": "stream",
          "name": "stdout",
          "text": [
            "datetime ['2011-01-01 00:00:00' '2011-01-01 01:00:00' '2011-01-01 02:00:00' ...\n",
            " '2012-12-19 21:00:00' '2012-12-19 22:00:00' '2012-12-19 23:00:00']\n",
            "season [1 2 3 4]\n",
            "holiday [0 1]\n",
            "workingday [0 1]\n",
            "weather [1 2 3 4]\n",
            "temp [ 9.84  9.02  8.2  13.12 15.58 14.76 17.22 18.86 18.04 16.4  13.94 12.3\n",
            " 10.66  6.56  5.74  7.38  4.92 11.48  4.1   3.28  2.46 21.32 22.96 23.78\n",
            " 24.6  19.68 22.14 20.5  27.06 26.24 25.42 27.88 28.7  30.34 31.16 29.52\n",
            " 33.62 35.26 36.9  32.8  31.98 34.44 36.08 37.72 38.54  1.64  0.82 39.36\n",
            " 41.  ]\n",
            "atemp [14.395 13.635 12.88  17.425 19.695 16.665 21.21  22.725 21.97  20.455\n",
            " 11.365 10.605  9.85   8.335  6.82   5.305  6.06   9.09  12.12   7.575\n",
            " 15.91   3.03   3.79   4.545 15.15  18.18  25.    26.515 27.275 29.545\n",
            " 23.485 25.76  31.06  30.305 24.24  18.94  31.82  32.575 33.335 28.79\n",
            " 34.85  35.605 37.12  40.15  41.665 40.91  39.395 34.09  28.03  36.365\n",
            " 37.88  42.425 43.94  38.635  1.515  0.76   2.275 43.18  44.695 45.455]\n",
            "humidity [ 81  80  75  86  76  77  72  82  88  87  94 100  71  66  57  46  42  39\n",
            "  44  47  50  43  40  35  30  32  64  69  55  59  63  68  74  51  56  52\n",
            "  49  48  37  33  28  38  36  93  29  53  34  54  41  45  92  62  58  61\n",
            "  60  65  70  27  25  26  31  73  21  24  23  22  19  15  67  10   8  12\n",
            "  14  13  17  16  18  20  85   0  83  84  78  79  89  97  90  96  91]\n",
            "windspeed [ 0.      6.0032 16.9979 19.0012 19.9995 12.998  15.0013  8.9981 11.0014\n",
            " 22.0028 30.0026 23.9994 27.9993 26.0027  7.0015 32.9975 36.9974 31.0009\n",
            " 35.0008 39.0007 43.9989 40.9973 51.9987 46.0022 50.0021 43.0006 56.9969\n",
            " 47.9988]\n"
          ]
        }
      ]
    },
    {
      "cell_type": "code",
      "metadata": {
        "colab": {
          "base_uri": "https://localhost:8080/",
          "height": 283
        },
        "id": "ebP6qcZq1k7V",
        "outputId": "9048a8ed-fdbb-45f6-ca7f-e80d3e11554d"
      },
      "source": [
        "## casual, registered\n",
        "plt.plot(df['datetime'][:100], df['registered'][:100], color='r')     ## registered (빨강)\n",
        "plt.plot(df['datetime'][:100], df['casual'][:100], color='b')         ## casual (파랑)          casual ->registered 등록고객이 늘어나는 추세(증가율은 따로 확인 필요)"
      ],
      "execution_count": null,
      "outputs": [
        {
          "output_type": "execute_result",
          "data": {
            "text/plain": [
              "[<matplotlib.lines.Line2D at 0x7fa8ba4cf910>]"
            ]
          },
          "metadata": {},
          "execution_count": 23
        },
        {
          "output_type": "display_data",
          "data": {
            "image/png": "[encoded data removed]",
            "text/plain": [
              "<Figure size 432x288 with 1 Axes>"
            ]
          },
          "metadata": {
            "needs_background": "light"
          }
        }
      ]
    },
    {
      "cell_type": "code",
      "metadata": {
        "id": "UAf3kPaxG7rm"
      },
      "source": [
        ""
      ],
      "execution_count": null,
      "outputs": []
    },
    {
      "cell_type": "code",
      "metadata": {
        "id": "HTRJMfwQXVad",
        "colab": {
          "base_uri": "https://localhost:8080/"
        },
        "outputId": "ad44c435-839f-421c-d2c6-64cfec3451f7"
      },
      "source": [
        "## 시간에 따라 train, test 나누기 (datetime에 맞춰 sort되어 있음.)\n",
        "\n",
        "train = df.loc[:len(df)*0.8,:]\n",
        "test = df.loc[len(df)*0.8:,:]\n",
        "val = train.loc[len(train)*0.8:,:]\n",
        "train = train.loc[:len(train)*0.8,:]\n",
        "\n",
        "\n",
        "print(len(df), len(train), len(val), len(test))\n",
        "print(train)\n",
        "print(val)\n",
        "print(test)"
      ],
      "execution_count": null,
      "outputs": [
        {
          "output_type": "stream",
          "name": "stdout",
          "text": [
            "10833 6923 1730 2180\n",
            "                 datetime  season  holiday  ...  casual  registered  count\n",
            "0     2011-01-01 00:00:00       1        0  ...       3          13     16\n",
            "1     2011-01-01 01:00:00       1        0  ...       8          32     40\n",
            "2     2011-01-01 02:00:00       1        0  ...       5          27     32\n",
            "3     2011-01-01 03:00:00       1        0  ...       3          10     13\n",
            "4     2011-01-01 04:00:00       1        0  ...       0           1      1\n",
            "...                   ...     ...      ...  ...     ...         ...    ...\n",
            "6918  2012-04-06 14:00:00       2        0  ...     240         250    490\n",
            "6919  2012-04-06 15:00:00       2        0  ...     218         319    537\n",
            "6920  2012-04-06 16:00:00       2        0  ...     184         352    536\n",
            "6921  2012-04-06 17:00:00       2        0  ...     172         483    655\n",
            "6922  2012-04-06 18:00:00       2        0  ...     104         380    484\n",
            "\n",
            "[6923 rows x 12 columns]\n",
            "                 datetime  season  holiday  ...  casual  registered  count\n",
            "6923  2012-04-06 19:00:00       2        0  ...     115         297    412\n",
            "6924  2012-04-06 20:00:00       2        0  ...      61         191    252\n",
            "6925  2012-04-06 21:00:00       2        0  ...      54         136    190\n",
            "6926  2012-04-06 22:00:00       2        0  ...      34         124    158\n",
            "6927  2012-04-06 23:00:00       2        0  ...      21          92    113\n",
            "...                   ...     ...      ...  ...     ...         ...    ...\n",
            "8662  2012-08-03 07:00:00       3        0  ...      25         396    421\n",
            "8663  2012-08-03 08:00:00       3        0  ...      32         636    668\n",
            "8664  2012-08-03 09:00:00       3        0  ...      69         327    396\n",
            "8665  2012-08-03 10:00:00       3        0  ...      82         167    249\n",
            "8666  2012-08-03 11:00:00       3        0  ...      77         186    263\n",
            "\n",
            "[1730 rows x 12 columns]\n",
            "                  datetime  season  holiday  ...  casual  registered  count\n",
            "8667   2012-08-03 12:00:00       3        0  ...      95         243    338\n",
            "8668   2012-08-03 13:00:00       3        0  ...      98         247    345\n",
            "8669   2012-08-03 14:00:00       3        0  ...     102         229    331\n",
            "8670   2012-08-03 15:00:00       3        0  ...     112         268    380\n",
            "8671   2012-08-03 16:00:00       3        0  ...     112         380    492\n",
            "...                    ...     ...      ...  ...     ...         ...    ...\n",
            "10881  2012-12-19 19:00:00       4        0  ...       7         329    336\n",
            "10882  2012-12-19 20:00:00       4        0  ...      10         231    241\n",
            "10883  2012-12-19 21:00:00       4        0  ...       4         164    168\n",
            "10884  2012-12-19 22:00:00       4        0  ...      12         117    129\n",
            "10885  2012-12-19 23:00:00       4        0  ...       4          84     88\n",
            "\n",
            "[2180 rows x 12 columns]\n"
          ]
        }
      ]
    },
    {
      "cell_type": "code",
      "metadata": {
        "id": "xCtFgYoHPLxq"
      },
      "source": [
        "# 특성공학\n",
        "\n",
        "def engine(df):\n",
        "  df = df.copy()\n",
        "\n",
        "  df['date'] = df['datetime'].apply(lambda x: x.split(' ')[0])\n",
        "  df['date'] = df['date'].apply(lambda x: x.replace('-',''))\n",
        "  # df['date'] = df['date'].astype(int)     ## 20110101\n",
        "  # df['date'].     ## 20110101 =>1, ... 20121231 =>마지막.\n",
        "\n",
        "  df['hour'] = df['datetime'].apply(lambda x: x.split(' ')[1])    ## 시간\n",
        "  df['hour'] = df['hour'].apply(lambda x: x.split(':')[0])    ## 분단위 삭제.\n",
        "  df['hour'] = df['hour'].astype(int)\n",
        "\n",
        "  df['temp_weighted'] = df['temp']*0.4 + df['atemp']*0.6      ## 다중공선성 방지. (체감온도에 조금더 가중치를 둔 값.)\n",
        "\n",
        "  df = df.drop(columns=['casual','registered', 'datetime', 'temp', 'atemp','date'], axis=1)   ## multicolinearity 방지\n",
        "  return df\n",
        "\n",
        "test1 = test.copy()\n",
        "\n",
        "train = engine(train)\n",
        "val = engine(val)\n",
        "test = engine(test)"
      ],
      "execution_count": null,
      "outputs": []
    },
    {
      "cell_type": "code",
      "metadata": {
        "id": "U9JCmyxpZIzG"
      },
      "source": [
        "# ## pair plot (시간오래걸림)\n",
        "\n",
        "# sns.set(style='whitegrid', context='notebook')\n",
        "# cols = train.columns   ## 혹은 보고싶은 column만 ['~', '~']\n",
        "# sns.pairplot(train[cols], height=2);"
      ],
      "execution_count": null,
      "outputs": []
    },
    {
      "cell_type": "code",
      "metadata": {
        "colab": {
          "base_uri": "https://localhost:8080/"
        },
        "id": "5BjK1KoCI-OR",
        "outputId": "5c6b4efd-644e-40e2-dcdb-057b24e97864"
      },
      "source": [
        "## X, y split\n",
        "\n",
        "feature = train.drop(columns=[target]).columns\n",
        "\n",
        "X_train = train[feature]\n",
        "y_train = train[target]\n",
        "X_val = val[feature]\n",
        "y_val = val[target]\n",
        "X_test = test[feature]\n",
        "y_test = test[target]\n",
        "\n",
        "print(len(df), len(X_train), len(X_val), len(X_test))"
      ],
      "execution_count": null,
      "outputs": [
        {
          "output_type": "stream",
          "name": "stdout",
          "text": [
            "10833 6923 1730 2180\n"
          ]
        }
      ]
    },
    {
      "cell_type": "code",
      "metadata": {
        "id": "3h8lz7MtXT_X",
        "colab": {
          "base_uri": "https://localhost:8080/"
        },
        "outputId": "825a0723-b035-4641-8428-8cd42cffdffa"
      },
      "source": [
        "## modeling\n",
        "\n",
        "# !pip install category_encoders\n",
        "from category_encoders import OrdinalEncoder\n",
        "from sklearn.model_selection import cross_val_score\n",
        "# from sklearn.feature_selection import f_regression, SelectKBest\n",
        "from sklearn.ensemble import RandomForestRegressor\n",
        "from sklearn.impute import SimpleImputer\n",
        "from sklearn.preprocessing import StandardScaler\n",
        "from sklearn.pipeline import make_pipeline\n",
        "from sklearn.model_selection import validation_curve\n",
        "from sklearn.tree import DecisionTreeRegressor\n",
        "from sklearn.linear_model import LinearRegression, LogisticRegression\n",
        "from sklearn.metrics import mean_absolute_error\n",
        "from sklearn.metrics import mean_squared_log_error\n",
        "import xgboost as xgb\n",
        "\n",
        "pipe = make_pipeline(\n",
        "    OrdinalEncoder(),\n",
        "    # SimpleImputer(strategy='mean'), \n",
        "    # StandardScaler(),\n",
        "    # SelectKBest(f_regression, k=20),\n",
        "    # RandomForestRegressor(max_depth=10)\n",
        "    xgb.XGBRegressor(n_estimators=200\n",
        "                  , random_state=2\n",
        "                  , n_jobs=-1\n",
        "                  , max_depth=7\n",
        "                  , learning_rate=0.2)\n",
        "    # DecisionTreeRegressor()\n",
        "    # LogisticRegression()\n",
        ")\n",
        "\n",
        "# model = xgb.XGBRegressor(n_estimators=200, random_state=2, n_jobs=-1, max_depth=7, learning_rate=0.2)\n",
        "# eval_set = [(X_train, y_train), \n",
        "#             (X_val, y_val)]\n",
        "# model.fit(X_train, y_train, \n",
        "#           eval_set=eval_set,\n",
        "#           eval_metric='error', ## rmse for regression\n",
        "#           early_stopping_rounds=50)\n",
        "\n",
        "pipe.fit(X_train, y_train)\n",
        "\n",
        "         \n",
        "print('검증 정확도: ', pipe.score(X_val, y_val))\n",
        "\n",
        "y_test_pred = pipe.predict(X_test)\n",
        "\n",
        "print(mean_absolute_error(y_test, y_test_pred))"
      ],
      "execution_count": null,
      "outputs": [
        {
          "output_type": "stream",
          "name": "stdout",
          "text": [
            "[07:53:54] WARNING: /workspace/src/objective/regression_obj.cu:152: reg:linear is now deprecated in favor of reg:squarederror.\n",
            "검증 정확도:  0.7018678561252992\n",
            "90.59550144479635\n"
          ]
        }
      ]
    },
    {
      "cell_type": "code",
      "metadata": {
        "id": "x2C4CtvqQZew"
      },
      "source": [
        "pipe.named_steps"
      ],
      "execution_count": null,
      "outputs": []
    },
    {
      "cell_type": "code",
      "metadata": {
        "id": "8WhVyg-S0Duc"
      },
      "source": [
        "rf = pipe.named_steps['xgbregressor']\n",
        "importances = pd.Series(rf.feature_importances_, X_train.columns)\n",
        "\n",
        "%matplotlib inline\n",
        "import matplotlib.pyplot as plt\n",
        "\n",
        "n = len(train.columns)\n",
        "plt.figure(figsize=(8,n/2))\n",
        "plt.title(f'feature {n-1} importances')\n",
        "importances.sort_values()[-n:].plot.barh();"
      ],
      "execution_count": null,
      "outputs": []
    },
    {
      "cell_type": "code",
      "metadata": {
        "id": "wL5jz7N2_5DI"
      },
      "source": [
        "## 기준모델.\n",
        "y_test_base = np.empty(len(y_test))\n",
        "y_test_base.fill(y_test.median())   ## 회귀\n",
        "# y_test_base.fill(int(test[target].mode()))        ##분류\n",
        "y_test_base = pd.DataFrame(y_test_base, columns=[target])\n",
        "\n",
        "print(y_train.median(), y_test.median())\n",
        "print(\"기준모델 : MSE \", mean_absolute_error(y_test, y_test_base), \", R2 score :\", pipe.score(X_test, y_test_base))     ## 기준모델(y_test.median)과 실제값 사이에 163.45 MSE 차이남.\n",
        "\n",
        "y_test_pred = pipe.predict(X_test)\n",
        "print(\"예측모델 : MSE \", mean_absolute_error(y_test, y_test_pred), \", R2 score :\", pipe.score(X_test,y_test))     ## 모델은 67.86 MSE 차이.  logarithmic 해도 68.766인데..."
      ],
      "execution_count": null,
      "outputs": []
    },
    {
      "cell_type": "code",
      "metadata": {
        "id": "9SW4uPPPSenh"
      },
      "source": [
        "# def date(df):\n",
        "#   df = df.copy()\n",
        "#   df['date'] = df['date'].astype(str)     ## 20110101\n",
        "#   return df\n",
        "\n",
        "# date(X_train)\n",
        "# date(X_val)\n",
        "# date(X_test)\n",
        "# date(train)\n",
        "# date(val)\n",
        "# date(test)"
      ],
      "execution_count": null,
      "outputs": []
    },
    {
      "cell_type": "code",
      "metadata": {
        "id": "6zq_nhhoQ5hX"
      },
      "source": [
        "## test 100개 샘플의 pred 그래프\n",
        "y_test_pred_df = pd.DataFrame(y_test_pred, columns=['count'])\n",
        "y_test_pred_df = y_test_pred_df.assign(datetime=test1['datetime'].values)\n",
        "\n",
        "n=100\n",
        "plt.figure(figsize=(15,6))\n",
        "plt.plot(y_test_pred_df['datetime'][:n], test['count'][:n], color='b')                ## y_test 실제값 (파랑)\n",
        "plt.plot(y_test_pred_df['datetime'][:n], y_test_pred_df['count'][:n], color='r')      ## y_test 예측값 (빨강)"
      ],
      "execution_count": null,
      "outputs": []
    }
  ]
}